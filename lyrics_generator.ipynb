{
  "nbformat": 4,
  "nbformat_minor": 0,
  "metadata": {
    "colab": {
      "name": "lyrics_generator.ipynb",
      "provenance": [],
      "collapsed_sections": [],
      "toc_visible": true
    },
    "kernelspec": {
      "name": "python3",
      "display_name": "Python 3"
    },
    "language_info": {
      "name": "python"
    }
  },
  "cells": [
    {
      "cell_type": "markdown",
      "metadata": {
        "id": "o6_vGR5Zc5bH"
      },
      "source": [
        "# Lyrics Generator\n",
        "Is an NLP model that is used to create the lyrics of the words given as input using LSTM in it on Tensorflow."
      ]
    },
    {
      "cell_type": "markdown",
      "metadata": {
        "id": "xvZ0xoQCb4hB"
      },
      "source": [
        "\n",
        "# 1.Aim\n",
        "The aim is to create a lyrics inducer for any word given as th input and output as the set of words which which will be the lyrics of the song.\n",
        "\n"
      ]
    },
    {
      "cell_type": "markdown",
      "metadata": {
        "id": "rFpY5CeCdUVx"
      },
      "source": [
        "# 2.Setup"
      ]
    },
    {
      "cell_type": "code",
      "metadata": {
        "id": "lVwOoU9XYXSn"
      },
      "source": [
        "from tensorflow.keras.preprocessing.sequence import pad_sequences\n",
        "from tensorflow.keras.layers import Embedding, LSTM, Dense, Dropout, Bidirectional\n",
        "from tensorflow.keras.preprocessing.text import Tokenizer\n",
        "from tensorflow.keras.models import Sequential\n",
        "from tensorflow.keras.optimizers import Adam\n",
        "from tensorflow.keras import regularizers\n",
        "import tensorflow.keras.utils as ku\n",
        "import numpy as np\n",
        "import pandas as pd\n",
        "import matplotlib.pyplot as plt\n",
        "import tensorflow as tf"
      ],
      "execution_count": null,
      "outputs": []
    },
    {
      "cell_type": "markdown",
      "metadata": {
        "id": "-SLVTqgMdh6_"
      },
      "source": [
        "# 3. Importing the dataset"
      ]
    },
    {
      "cell_type": "code",
      "metadata": {
        "id": "SzbimqmgYtdm",
        "colab": {
          "base_uri": "https://localhost:8080/",
          "height": 171
        },
        "outputId": "aa5781b7-4939-49d7-d18c-780dba2229d0"
      },
      "source": [
        "lyric=open('/content/lorde.txt').read()\n",
        "lyric[:2000]"
      ],
      "execution_count": null,
      "outputs": [
        {
          "output_type": "execute_result",
          "data": {
            "application/vnd.google.colaboratory.intrinsic+json": {
              "type": "string"
            },
            "text/plain": [
              "\"Well, summer slipped us underneath her tongue\\nOur days and nights are perfumed with obsession\\nHalf of my wardrobe is on your bedroom floor\\nUse our eyes, throw our hands overboard I am your sweetheart psychopathic crush\\nDrink up your movements, still I can't get enough\\nI overthink your p-punctuation use\\nNot my fault, just a thing that my mind do A rush at the beginning\\nI get caught up, just for a minute\\nBut lover, you're the one to blame, all that you're doing\\nCan you hear the violence?\\nMegaphone to my chest Broadcast the boom boom boom boom\\nAnd make 'em all dance to it\\nBroadcast the boom boom boom boom\\nAnd make 'em all dance to it\\nBroadcast the boom boom boom boom\\nAnd make 'em all dance to it\\nBroadcast the boom boom boom boom\\nAnd make 'em all dance to it\\nBroadcast the boom boom boom boom\\nAnd make 'em all dance to it Our thing progresses, I call and you come through\\nBlow all my friendships to sit in hell with you\\nBut we're the greatest, they'll hang us in the Louvre\\nDown the back, but who cares, still the Louvre Okay I know that you are not my type (still I fall)\\nI'm just the sucker who let you fill her mind (but what about love?)\\nNothing wrong with it, supernatural\\nJust move in close to me, closer, you'll feel it coasting A rush at the beginning\\nI get caught up, just for a minute\\nBut lover, you're the one to blame, all that you're doing\\nCan you hear the violence?\\nMegaphone to my chest Broadcast the boom boom boom boom\\nAnd make 'em all dance to it\\nBroadcast the boom boom boom boom\\nAnd make 'em all dance to it\\nBroadcast the boom boom boom boom\\nAnd make 'em all dance to it\\nBroadcast the boom boom boom boom\\nAnd make 'em all dance to it\\nBroadcast the boom boom boom boom\\nAnd make 'em all dance to it Every night, I live and die\\nFeel the party to my bones\\nWatch the wasters blow the speakers\\nSpill my guts beneath the outdoor light\\nIt's just another graceless night\\nI hate the headlines and the weather\\nI'm nineteen and I'm on fire\\nBut when we're dancing I'm alright\\nIt's just a\""
            ]
          },
          "metadata": {
            "tags": []
          },
          "execution_count": 27
        }
      ]
    },
    {
      "cell_type": "markdown",
      "metadata": {
        "id": "XENuMyrxdxWJ"
      },
      "source": [
        "# 4.Pre processing"
      ]
    },
    {
      "cell_type": "code",
      "metadata": {
        "colab": {
          "base_uri": "https://localhost:8080/"
        },
        "id": "xNHGlwjvadFt",
        "outputId": "a446f477-c9ac-4c15-c011-d041fb1e1ae3"
      },
      "source": [
        "corpus=lyric.lower().split('\\n')\n",
        "for i in range(40,60):\n",
        "    print(corpus[i])"
      ],
      "execution_count": null,
      "outputs": [
        {
          "output_type": "stream",
          "text": [
            "watch the wasters blow the speakers\n",
            "spill my guts beneath the outdoor light\n",
            "it's just another graceless night\n",
            "i hate the headlines and the weather\n",
            "i'm nineteen and i'm on fire\n",
            "but when we're dancing i'm alright\n",
            "it's just another graceless night are you lost enough?\n",
            "have another drink, get lost in us\n",
            "this is how we get notorious, oh\n",
            "'cause i don't know\n",
            "if they keep tellin' me where to go\n",
            "i'll blow my brains out to the radio, oh all of the things we're taking\n",
            "'cause we are young and we're ashamed\n",
            "send us to perfect places\n",
            "all of our heroes fading\n",
            "now i can't stand to be alone\n",
            "let's go to perfect places every night, i live and die\n",
            "meet somebody, take 'em home\n",
            "let's kiss and then take off our clothes\n",
            "it's just another graceless night, 'cause all of the things we're taking\n"
          ],
          "name": "stdout"
        }
      ]
    },
    {
      "cell_type": "markdown",
      "metadata": {
        "id": "XgfNCBUid3N2"
      },
      "source": [
        "# 5.Code mounting drive"
      ]
    },
    {
      "cell_type": "code",
      "metadata": {
        "id": "ingxKKL7USIM",
        "colab": {
          "base_uri": "https://localhost:8080/"
        },
        "outputId": "be8c6d65-25fe-47d7-ba1a-b5fc365f2f32"
      },
      "source": [
        "from google.colab import drive\n",
        "drive.mount('/content/drive')"
      ],
      "execution_count": null,
      "outputs": [
        {
          "output_type": "stream",
          "text": [
            "Mounted at /content/drive\n"
          ],
          "name": "stdout"
        }
      ]
    },
    {
      "cell_type": "markdown",
      "metadata": {
        "id": "qjCtZkXmeCR5"
      },
      "source": [
        "# 6.Tokenizing"
      ]
    },
    {
      "cell_type": "code",
      "metadata": {
        "colab": {
          "base_uri": "https://localhost:8080/"
        },
        "id": "uzGeQpo_ahMd",
        "outputId": "213da89a-480e-4a93-e9d6-51ad798dac7a"
      },
      "source": [
        "tokenizer = Tokenizer()\n",
        "tokenizer.fit_on_texts(corpus)\n",
        "total_words = len(tokenizer.word_index) + 1\n",
        "total_words"
      ],
      "execution_count": null,
      "outputs": [
        {
          "output_type": "execute_result",
          "data": {
            "text/plain": [
              "1372"
            ]
          },
          "metadata": {
            "tags": []
          },
          "execution_count": 30
        }
      ]
    },
    {
      "cell_type": "markdown",
      "metadata": {
        "id": "1YXUmIRAeTu3"
      },
      "source": [
        "# 7.Creating Sequences"
      ]
    },
    {
      "cell_type": "code",
      "metadata": {
        "id": "LGWwX_WQaj0r"
      },
      "source": [
        "input_sequences = []\n",
        "for line in corpus:\n",
        "  token_list = tokenizer.texts_to_sequences([line])[0]\n",
        "  for i in range(1, len(token_list)):\n",
        "    n_gram_sequence = token_list[:i+1]\n",
        "    input_sequences.append(n_gram_sequence)\n"
      ],
      "execution_count": null,
      "outputs": []
    },
    {
      "cell_type": "code",
      "metadata": {
        "colab": {
          "base_uri": "https://localhost:8080/"
        },
        "id": "cUQY1Hk9annE",
        "outputId": "7526cc17-071f-446d-d826-c4b5af049269"
      },
      "source": [
        "for i in range(20):\n",
        "    print(input_sequences[i])"
      ],
      "execution_count": null,
      "outputs": [
        {
          "output_type": "stream",
          "text": [
            "[112, 196]\n",
            "[112, 196, 703]\n",
            "[112, 196, 703, 42]\n",
            "[112, 196, 703, 42, 568]\n",
            "[112, 196, 703, 42, 568, 180]\n",
            "[112, 196, 703, 42, 568, 180, 569]\n",
            "[22, 165]\n",
            "[22, 165, 4]\n",
            "[22, 165, 4, 181]\n",
            "[22, 165, 4, 181, 36]\n",
            "[22, 165, 4, 181, 36, 704]\n",
            "[22, 165, 4, 181, 36, 704, 21]\n",
            "[22, 165, 4, 181, 36, 704, 21, 705]\n",
            "[706, 13]\n",
            "[706, 13, 9]\n",
            "[706, 13, 9, 707]\n",
            "[706, 13, 9, 707, 40]\n",
            "[706, 13, 9, 707, 40, 27]\n",
            "[706, 13, 9, 707, 40, 27, 19]\n",
            "[706, 13, 9, 707, 40, 27, 19, 439]\n"
          ],
          "name": "stdout"
        }
      ]
    },
    {
      "cell_type": "markdown",
      "metadata": {
        "id": "kbsU3j7pe6ld"
      },
      "source": [
        "# 8.Padding"
      ]
    },
    {
      "cell_type": "code",
      "metadata": {
        "colab": {
          "base_uri": "https://localhost:8080/"
        },
        "id": "wy-lPhQtbTmR",
        "outputId": "aad9fd92-2780-4026-ce1c-447631a4cd46"
      },
      "source": [
        "max_sequence_len = max([len(x) for x in input_sequences])\n",
        "input_sequences = np.array(pad_sequences(input_sequences, maxlen=max_sequence_len,\n",
        "padding='pre'))\n",
        "print(max_sequence_len)\n",
        "print(input_sequences)"
      ],
      "execution_count": null,
      "outputs": [
        {
          "output_type": "stream",
          "text": [
            "29\n",
            "[[  0   0   0 ...   0 112 196]\n",
            " [  0   0   0 ... 112 196 703]\n",
            " [  0   0   0 ... 196 703  42]\n",
            " ...\n",
            " [  0   0   0 ... 207 140 140]\n",
            " [  0   0   0 ... 140 140 140]\n",
            " [  0   0   0 ... 140 140 140]]\n"
          ],
          "name": "stdout"
        }
      ]
    },
    {
      "cell_type": "markdown",
      "metadata": {
        "id": "qYh041pXfBB_"
      },
      "source": [
        "# 9.Building the model"
      ]
    },
    {
      "cell_type": "code",
      "metadata": {
        "colab": {
          "base_uri": "https://localhost:8080/"
        },
        "id": "GDbXQpE7bXIz",
        "outputId": "2f1381ca-b91b-4a92-f608-c0ba3c4e7571"
      },
      "source": [
        "model = Sequential()\n",
        "model.add(Embedding(1372, 160, input_length=max_sequence_len-1))\n",
        "model.add(Bidirectional(LSTM(200, return_sequences = True)))\n",
        "model.add(Dropout(0.2))\n",
        "model.add(LSTM(100))\n",
        "model.add(Dense(1372/2, activation='relu', kernel_regularizer=regularizers.l2(0.001\n",
        ")))\n",
        "model.add(Dense(1372, activation='softmax'))\n",
        "model.compile(loss='categorical_crossentropy', optimizer='adam', metrics=['accuracy'])\n",
        "print(model.summary())"
      ],
      "execution_count": null,
      "outputs": [
        {
          "output_type": "stream",
          "text": [
            "Model: \"sequential_1\"\n",
            "_________________________________________________________________\n",
            "Layer (type)                 Output Shape              Param #   \n",
            "=================================================================\n",
            "embedding_1 (Embedding)      (None, 28, 160)           219520    \n",
            "_________________________________________________________________\n",
            "bidirectional_1 (Bidirection (None, 28, 400)           577600    \n",
            "_________________________________________________________________\n",
            "dropout_1 (Dropout)          (None, 28, 400)           0         \n",
            "_________________________________________________________________\n",
            "lstm_3 (LSTM)                (None, 100)               200400    \n",
            "_________________________________________________________________\n",
            "dense_2 (Dense)              (None, 686)               69286     \n",
            "_________________________________________________________________\n",
            "dense_3 (Dense)              (None, 1372)              942564    \n",
            "=================================================================\n",
            "Total params: 2,009,370\n",
            "Trainable params: 2,009,370\n",
            "Non-trainable params: 0\n",
            "_________________________________________________________________\n",
            "None\n"
          ],
          "name": "stdout"
        }
      ]
    },
    {
      "cell_type": "code",
      "metadata": {
        "id": "wIwzQP2dboBD"
      },
      "source": [
        "predictors, label = input_sequences[:,:-1],input_sequences[:,-1]\n",
        "label = ku.to_categorical(label, num_classes=total_words)"
      ],
      "execution_count": null,
      "outputs": []
    },
    {
      "cell_type": "markdown",
      "metadata": {
        "id": "4XyPEDPWb7js"
      },
      "source": [
        "# 10. Training the model"
      ]
    },
    {
      "cell_type": "code",
      "metadata": {
        "colab": {
          "base_uri": "https://localhost:8080/"
        },
        "id": "CH-dVtFfcAOH",
        "outputId": "eab3db68-f264-4a62-9207-640d790c3150"
      },
      "source": [
        "history = model.fit(predictors, label, epochs=50, verbose=1)"
      ],
      "execution_count": null,
      "outputs": [
        {
          "output_type": "stream",
          "text": [
            "Epoch 1/50\n",
            "380/380 [==============================] - 95s 237ms/step - loss: 5.9840 - accuracy: 0.0521\n",
            "Epoch 2/50\n",
            "380/380 [==============================] - 90s 236ms/step - loss: 5.4261 - accuracy: 0.0570\n",
            "Epoch 3/50\n",
            "380/380 [==============================] - 90s 236ms/step - loss: 5.0919 - accuracy: 0.0772\n",
            "Epoch 4/50\n",
            "380/380 [==============================] - 90s 236ms/step - loss: 4.7865 - accuracy: 0.1042\n",
            "Epoch 5/50\n",
            "380/380 [==============================] - 90s 236ms/step - loss: 4.5150 - accuracy: 0.1391\n",
            "Epoch 6/50\n",
            "380/380 [==============================] - 90s 237ms/step - loss: 4.2447 - accuracy: 0.1768\n",
            "Epoch 7/50\n",
            "380/380 [==============================] - 90s 237ms/step - loss: 4.0093 - accuracy: 0.2115\n",
            "Epoch 8/50\n",
            "380/380 [==============================] - 90s 236ms/step - loss: 3.7785 - accuracy: 0.2451\n",
            "Epoch 9/50\n",
            "380/380 [==============================] - 90s 236ms/step - loss: 3.5769 - accuracy: 0.2724\n",
            "Epoch 10/50\n",
            "380/380 [==============================] - 90s 236ms/step - loss: 3.3912 - accuracy: 0.2993\n",
            "Epoch 11/50\n",
            "380/380 [==============================] - 90s 237ms/step - loss: 3.1986 - accuracy: 0.3326\n",
            "Epoch 12/50\n",
            "380/380 [==============================] - 90s 236ms/step - loss: 3.0489 - accuracy: 0.3594\n",
            "Epoch 13/50\n",
            "380/380 [==============================] - 90s 238ms/step - loss: 2.8710 - accuracy: 0.3933\n",
            "Epoch 14/50\n",
            "380/380 [==============================] - 90s 237ms/step - loss: 2.7154 - accuracy: 0.4215\n",
            "Epoch 15/50\n",
            "380/380 [==============================] - 91s 241ms/step - loss: 2.5700 - accuracy: 0.4472\n",
            "Epoch 16/50\n",
            "380/380 [==============================] - 90s 237ms/step - loss: 2.4311 - accuracy: 0.4800\n",
            "Epoch 17/50\n",
            "380/380 [==============================] - 91s 240ms/step - loss: 2.3148 - accuracy: 0.5050\n",
            "Epoch 18/50\n",
            "380/380 [==============================] - 90s 237ms/step - loss: 2.1891 - accuracy: 0.5364\n",
            "Epoch 19/50\n",
            "380/380 [==============================] - 90s 237ms/step - loss: 2.0819 - accuracy: 0.5572\n",
            "Epoch 20/50\n",
            "380/380 [==============================] - 90s 237ms/step - loss: 1.9790 - accuracy: 0.5815\n",
            "Epoch 21/50\n",
            "380/380 [==============================] - 89s 235ms/step - loss: 1.8788 - accuracy: 0.5987\n",
            "Epoch 22/50\n",
            "380/380 [==============================] - 89s 235ms/step - loss: 1.7795 - accuracy: 0.6185\n",
            "Epoch 23/50\n",
            "380/380 [==============================] - 89s 235ms/step - loss: 1.7133 - accuracy: 0.6376\n",
            "Epoch 24/50\n",
            "380/380 [==============================] - 89s 234ms/step - loss: 1.6350 - accuracy: 0.6535\n",
            "Epoch 25/50\n",
            "380/380 [==============================] - 88s 232ms/step - loss: 1.5626 - accuracy: 0.6695\n",
            "Epoch 26/50\n",
            "380/380 [==============================] - 88s 232ms/step - loss: 1.4844 - accuracy: 0.6876\n",
            "Epoch 27/50\n",
            "380/380 [==============================] - 90s 236ms/step - loss: 1.4252 - accuracy: 0.7047\n",
            "Epoch 28/50\n",
            "380/380 [==============================] - 89s 235ms/step - loss: 1.3580 - accuracy: 0.7209\n",
            "Epoch 29/50\n",
            "380/380 [==============================] - 89s 235ms/step - loss: 1.3453 - accuracy: 0.7197\n",
            "Epoch 30/50\n",
            "380/380 [==============================] - 89s 235ms/step - loss: 1.2576 - accuracy: 0.7440\n",
            "Epoch 31/50\n",
            "380/380 [==============================] - 89s 234ms/step - loss: 1.2178 - accuracy: 0.7492\n",
            "Epoch 32/50\n",
            "380/380 [==============================] - 90s 236ms/step - loss: 1.1973 - accuracy: 0.7562\n",
            "Epoch 33/50\n",
            "380/380 [==============================] - 90s 236ms/step - loss: 1.1479 - accuracy: 0.7674\n",
            "Epoch 34/50\n",
            "380/380 [==============================] - 90s 238ms/step - loss: 1.0898 - accuracy: 0.7808\n",
            "Epoch 35/50\n",
            "380/380 [==============================] - 90s 238ms/step - loss: 1.0618 - accuracy: 0.7861\n",
            "Epoch 36/50\n",
            "380/380 [==============================] - 90s 237ms/step - loss: 1.0290 - accuracy: 0.7944\n",
            "Epoch 37/50\n",
            "380/380 [==============================] - 90s 237ms/step - loss: 1.0002 - accuracy: 0.7994\n",
            "Epoch 38/50\n",
            "380/380 [==============================] - 91s 239ms/step - loss: 0.9675 - accuracy: 0.8077\n",
            "Epoch 39/50\n",
            "380/380 [==============================] - 91s 239ms/step - loss: 0.9470 - accuracy: 0.8136\n",
            "Epoch 40/50\n",
            "380/380 [==============================] - 90s 237ms/step - loss: 0.9207 - accuracy: 0.8150\n",
            "Epoch 41/50\n",
            "380/380 [==============================] - 90s 236ms/step - loss: 0.9006 - accuracy: 0.8184\n",
            "Epoch 42/50\n",
            "380/380 [==============================] - 90s 237ms/step - loss: 0.8872 - accuracy: 0.8219\n",
            "Epoch 43/50\n",
            "380/380 [==============================] - 90s 236ms/step - loss: 0.8691 - accuracy: 0.8261\n",
            "Epoch 44/50\n",
            "380/380 [==============================] - 90s 236ms/step - loss: 0.8389 - accuracy: 0.8350\n",
            "Epoch 45/50\n",
            "380/380 [==============================] - 90s 236ms/step - loss: 0.7994 - accuracy: 0.8413\n",
            "Epoch 46/50\n",
            "380/380 [==============================] - 89s 235ms/step - loss: 0.7918 - accuracy: 0.8439\n",
            "Epoch 47/50\n",
            "380/380 [==============================] - 89s 235ms/step - loss: 0.7760 - accuracy: 0.8476\n",
            "Epoch 48/50\n",
            "380/380 [==============================] - 89s 235ms/step - loss: 0.7640 - accuracy: 0.8487\n",
            "Epoch 49/50\n",
            "380/380 [==============================] - 90s 237ms/step - loss: 0.7567 - accuracy: 0.8453\n",
            "Epoch 50/50\n",
            "380/380 [==============================] - 90s 236ms/step - loss: 0.7266 - accuracy: 0.8543\n"
          ],
          "name": "stdout"
        }
      ]
    },
    {
      "cell_type": "markdown",
      "metadata": {
        "id": "EGGZhY-efTCA"
      },
      "source": [
        "# 11.Analysing the results"
      ]
    },
    {
      "cell_type": "code",
      "metadata": {
        "colab": {
          "base_uri": "https://localhost:8080/",
          "height": 545
        },
        "id": "aPtX9L3VcIMg",
        "outputId": "58adb72e-2c75-4693-e03c-c9efcd7fe43e"
      },
      "source": [
        "acc = history.history['accuracy']\n",
        "loss = history.history['loss']\n",
        "epochs = range(len(acc))\n",
        "plt.plot(epochs, acc, 'b', label='Training accuracy')\n",
        "plt.title('Training accuracy')\n",
        "plt.figure()\n",
        "plt.plot(epochs, loss, 'b', label='Training Loss')\n",
        "plt.title('Training loss')\n",
        "plt.legend()\n",
        "plt.show()"
      ],
      "execution_count": null,
      "outputs": [
        {
          "output_type": "display_data",
          "data": {
            "image/png": "[encoded data removed]",
            "text/plain": [
              "<Figure size 432x288 with 1 Axes>"
            ]
          },
          "metadata": {
            "tags": [],
            "needs_background": "light"
          }
        },
        {
          "output_type": "display_data",
          "data": {
            "image/png": "[encoded data removed]",
            "text/plain": [
              "<Figure size 432x288 with 1 Axes>"
            ]
          },
          "metadata": {
            "tags": [],
            "needs_background": "light"
          }
        }
      ]
    },
    {
      "cell_type": "markdown",
      "metadata": {
        "id": "fxqy0r77fdht"
      },
      "source": [
        "# 12.Saving the model"
      ]
    },
    {
      "cell_type": "code",
      "metadata": {
        "id": "VSZ4VZvgkGzQ"
      },
      "source": [
        "model.save('lyrics_generator.h5')"
      ],
      "execution_count": null,
      "outputs": []
    },
    {
      "cell_type": "markdown",
      "metadata": {
        "id": "lJZJGgO_gJrE"
      },
      "source": [
        "# 13.Loading the model"
      ]
    },
    {
      "cell_type": "code",
      "metadata": {
        "id": "NbhU3QWZDpIR"
      },
      "source": [
        "from keras.models import load_model\n",
        "loaded_model=load_model('lyrics_generator.h5')"
      ],
      "execution_count": null,
      "outputs": []
    },
    {
      "cell_type": "code",
      "metadata": {
        "id": "PZYlViQ4yzWN"
      },
      "source": [
        "next_words=50\n",
        "seed_text='diamond in the flash'"
      ],
      "execution_count": null,
      "outputs": []
    },
    {
      "cell_type": "code",
      "metadata": {
        "id": "as5Px40gEsw7"
      },
      "source": [
        "def lyrics(next_words,seed_text):\n",
        "  for _ in range(next_words):\n",
        "    token_list = tokenizer.texts_to_sequences([seed_text])[0]\n",
        "    token_list = pad_sequences([token_list], maxlen=max_sequence_len-\n",
        "  1, padding='pre')\n",
        "    predicted = np.argmax(loaded_model.predict(token_list, verbose=0), axis=-1)\n",
        "    output_word = \"\"\n",
        "    for word, index in tokenizer.word_index.items():\n",
        "      if index == predicted:\n",
        "        output_word = word\n",
        "        break\n",
        "    seed_text += \" \" + output_word\n",
        "  print(seed_text)"
      ],
      "execution_count": null,
      "outputs": []
    },
    {
      "cell_type": "code",
      "metadata": {
        "colab": {
          "base_uri": "https://localhost:8080/"
        },
        "id": "yWFG2eRVmrVS",
        "outputId": "7b584f80-f4b4-4989-b7c0-2bf56ffaebf7"
      },
      "source": [
        "lyrics(next_words,seed_text)"
      ],
      "execution_count": null,
      "outputs": [
        {
          "output_type": "stream",
          "text": [
            "diamond in the flash shoulder blades in double time and now people talk to me i'm slipping out of reach now people talk to me i'm slipping out of reach it it it it it it it alone all it it feels go up it it didn't stand to big fun again it down\n"
          ],
          "name": "stdout"
        }
      ]
    },
    {
      "cell_type": "markdown",
      "metadata": {
        "id": "rUCeQ6ubgfMN"
      },
      "source": [
        "# Saving the model in json"
      ]
    },
    {
      "cell_type": "code",
      "metadata": {
        "id": "asSS5GlnEtrW"
      },
      "source": [
        "import time\n",
        "saved_model_path = \"./{}.h5\".format(int(time.time()))\n",
        "model.save(saved_model_path)"
      ],
      "execution_count": null,
      "outputs": []
    },
    {
      "cell_type": "code",
      "metadata": {
        "id": "jcWo9xQ1m9VW"
      },
      "source": [
        "!pip install tensorflowjs"
      ],
      "execution_count": null,
      "outputs": []
    },
    {
      "cell_type": "code",
      "metadata": {
        "id": "iJ4bhekyFJoP"
      },
      "source": [
        "import tensorflowjs"
      ],
      "execution_count": null,
      "outputs": []
    },
    {
      "cell_type": "code",
      "metadata": {
        "colab": {
          "base_uri": "https://localhost:8080/"
        },
        "id": "aQELdzzuIMF2",
        "outputId": "ba020ec2-02e0-46c4-d60c-c9140fb7d3ab"
      },
      "source": [
        "!tensorflowjs_converter --input_format=keras {saved_model_path} ./"
      ],
      "execution_count": null,
      "outputs": [
        {
          "output_type": "stream",
          "text": [
            "2021-05-30 16:24:11.786981: I tensorflow/stream_executor/platform/default/dso_loader.cc:53] Successfully opened dynamic library libcudart.so.11.0\n"
          ],
          "name": "stdout"
        }
      ]
    },
    {
      "cell_type": "code",
      "metadata": {
        "colab": {
          "base_uri": "https://localhost:8080/"
        },
        "id": "nB_PpJddISTe",
        "outputId": "3209ca73-e574-4d03-c796-e9274327684a"
      },
      "source": [
        "model_json = model.to_json()\n",
        "with open(\"model.json\", \"w\") as json_file:\n",
        "    json_file.write(model_json)\n",
        "model.save_weights(\"model.h5\")\n",
        "print(\"Saved model to disk\")"
      ],
      "execution_count": null,
      "outputs": [
        {
          "output_type": "stream",
          "text": [
            "Saved model to disk\n"
          ],
          "name": "stdout"
        }
      ]
    },
    {
      "cell_type": "markdown",
      "metadata": {
        "id": "u-7bpw_Ygkh_"
      },
      "source": [
        "# Loading the model from json"
      ]
    },
    {
      "cell_type": "code",
      "metadata": {
        "colab": {
          "base_uri": "https://localhost:8080/"
        },
        "id": "nqSSIwWBQWeX",
        "outputId": "63393c73-5f80-4261-afb2-fb15a76c79b7"
      },
      "source": [
        "from keras.models import model_from_json\n",
        "json_file = open('model.json', 'r')\n",
        "loaded_model_json = json_file.read()\n",
        "json_file.close()\n",
        "loaded_model = model_from_json(loaded_model_json)\n",
        "loaded_model.load_weights(\"model.h5\")\n",
        "print(\"Loaded model from disk\")"
      ],
      "execution_count": null,
      "outputs": [
        {
          "output_type": "stream",
          "text": [
            "Loaded model from disk\n"
          ],
          "name": "stdout"
        }
      ]
    },
    {
      "cell_type": "code",
      "metadata": {
        "colab": {
          "base_uri": "https://localhost:8080/"
        },
        "id": "27zJZDXUQmqx",
        "outputId": "9d2d5392-5556-45dd-9103-ba4e697e0335"
      },
      "source": [
        "loaded_model.summary()"
      ],
      "execution_count": null,
      "outputs": [
        {
          "output_type": "stream",
          "text": [
            "Model: \"sequential\"\n",
            "_________________________________________________________________\n",
            "Layer (type)                 Output Shape              Param #   \n",
            "=================================================================\n",
            "embedding (Embedding)        (None, 28, 160)           219520    \n",
            "_________________________________________________________________\n",
            "bidirectional (Bidirectional (None, 28, 400)           577600    \n",
            "_________________________________________________________________\n",
            "dropout (Dropout)            (None, 28, 400)           0         \n",
            "_________________________________________________________________\n",
            "lstm_1 (LSTM)                (None, 100)               200400    \n",
            "_________________________________________________________________\n",
            "dense (Dense)                (None, 686)               69286     \n",
            "_________________________________________________________________\n",
            "dense_1 (Dense)              (None, 1372)              942564    \n",
            "=================================================================\n",
            "Total params: 2,009,370\n",
            "Trainable params: 2,009,370\n",
            "Non-trainable params: 0\n",
            "_________________________________________________________________\n"
          ],
          "name": "stdout"
        }
      ]
    },
    {
      "cell_type": "code",
      "metadata": {
        "id": "ZIDdE3sIa7lt"
      },
      "source": [
        "next_words = 100\n",
        "seed_text = \"diamond in the flash\""
      ],
      "execution_count": null,
      "outputs": []
    },
    {
      "cell_type": "code",
      "metadata": {
        "id": "PxAcxOkkpnxL"
      },
      "source": [
        "def lyrics(next_words,seed_text):\n",
        "  for _ in range(next_words):\n",
        "    token_list = tokenizer.texts_to_sequences([seed_text])[0]\n",
        "    token_list = pad_sequences([token_list], maxlen=max_sequence_len-\n",
        "  1, padding='pre')\n",
        "    predicted = np.argmax(loaded_model.predict(token_list, verbose=0), axis=-1)\n",
        "    output_word = \"\"\n",
        "    for word, index in tokenizer.word_index.items():\n",
        "      if index == predicted:\n",
        "        output_word = word\n",
        "        break\n",
        "    seed_text += \" \" + output_word\n",
        "  print(seed_text)"
      ],
      "execution_count": null,
      "outputs": []
    },
    {
      "cell_type": "code",
      "metadata": {
        "colab": {
          "base_uri": "https://localhost:8080/"
        },
        "id": "98PRS65NpqLf",
        "outputId": "4dc22a52-676e-46cd-cb10-cb0a24c31d28"
      },
      "source": [
        "lyrics(next_words,seed_text)"
      ],
      "execution_count": null,
      "outputs": [
        {
          "output_type": "stream",
          "text": [
            "diamond in the flash shoulder blades in double time and now people talk to me i'm slipping out of reach now people talk to me i'm slipping out of reach it it it it it it it alone all it it feels go up it it didn't stand to big fun again it down it it feels better biting down skip a hit don't make a sound up in your fun go knows it it feels go go go big eyes it behind you way it be in love it and the fun go it it it it it it it feels love it\n"
          ],
          "name": "stdout"
        }
      ]
    },
    {
      "cell_type": "code",
      "metadata": {
        "id": "wk5N3MhkpwtG"
      },
      "source": [
        "next_words=50"
      ],
      "execution_count": null,
      "outputs": []
    },
    {
      "cell_type": "code",
      "metadata": {
        "colab": {
          "base_uri": "https://localhost:8080/",
          "height": 37
        },
        "id": "3cBc_EQHtM4b",
        "outputId": "fef02e84-874b-4577-94ab-e21397013ff5"
      },
      "source": [
        "seed_text"
      ],
      "execution_count": null,
      "outputs": [
        {
          "output_type": "execute_result",
          "data": {
            "application/vnd.google.colaboratory.intrinsic+json": {
              "type": "string"
            },
            "text/plain": [
              "'i am an owl'"
            ]
          },
          "metadata": {
            "tags": []
          },
          "execution_count": 62
        }
      ]
    },
    {
      "cell_type": "code",
      "metadata": {
        "id": "HC9qqb4UtQQ8"
      },
      "source": [
        "seed_text=\"hey you are a\""
      ],
      "execution_count": null,
      "outputs": []
    },
    {
      "cell_type": "code",
      "metadata": {
        "colab": {
          "base_uri": "https://localhost:8080/"
        },
        "id": "Pqta0pCKtVcH",
        "outputId": "e9dca398-3139-48df-9f42-45bc19376a27"
      },
      "source": [
        "lyrics(next_words,seed_text)"
      ],
      "execution_count": null,
      "outputs": [
        {
          "output_type": "stream",
          "text": [
            "hey you are a supercut of us chorus 1 but what about love it and everything works out so good drown the louvre okay in our numbers do a million liar those great whites they have big teeth night and gold teeth teens are out that slow burn wait while j minute divine on clean teeth left on repeat well summer slipped us underneath her tongue don't see on screen to even in the beginning pavement do no wouldn't can be without you acting on the truth is i am a toy that people enjoy but what about reach now i reveled without a\n"
          ],
          "name": "stdout"
        }
      ]
    },
    {
      "cell_type": "code",
      "metadata": {
        "id": "BwpcfJ5nXZ1u"
      },
      "source": [
        ""
      ],
      "execution_count": null,
      "outputs": []
    }
  ]
}