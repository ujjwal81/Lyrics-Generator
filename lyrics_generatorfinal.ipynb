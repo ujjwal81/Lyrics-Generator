{
  "nbformat": 4,
  "nbformat_minor": 0,
  "metadata": {
    "colab": {
      "name": "lyrics_generator.ipynb",
      "provenance": [],
      "collapsed_sections": [],
      "toc_visible": true
    },
    "kernelspec": {
      "name": "python3",
      "display_name": "Python 3"
    },
    "language_info": {
      "name": "python"
    }
  },
  "cells": [
    {
      "cell_type": "markdown",
      "metadata": {
        "id": "o6_vGR5Zc5bH"
      },
      "source": [
        "# Lyrics Generator\n",
        "Is an NLP model that is used to create the lyrics of the words given as input using LSTM in it on Tensorflow."
      ]
    },
    {
      "cell_type": "markdown",
      "metadata": {
        "id": "xvZ0xoQCb4hB"
      },
      "source": [
        "\n",
        "# 1.Aim\n",
        "The aim is to create a lyrics inducer for any word given as th input and output as the set of words which which will be the lyrics of the song.\n",
        "\n"
      ]
    },
    {
      "cell_type": "markdown",
      "metadata": {
        "id": "rFpY5CeCdUVx"
      },
      "source": [
        "# 2.Setup"
      ]
    },
    {
      "cell_type": "code",
      "metadata": {
        "id": "lVwOoU9XYXSn"
      },
      "source": [
        "from tensorflow.keras.preprocessing.sequence import pad_sequences\n",
        "from tensorflow.keras.layers import Embedding, LSTM, Dense, Dropout, Bidirectional\n",
        "from tensorflow.keras.preprocessing.text import Tokenizer\n",
        "from tensorflow.keras.models import Sequential\n",
        "from tensorflow.keras.optimizers import Adam\n",
        "from tensorflow.keras import regularizers\n",
        "import tensorflow.keras.utils as ku\n",
        "import numpy as np\n",
        "import pandas as pd\n",
        "import matplotlib.pyplot as plt\n",
        "import tensorflow as tf"
      ],
      "execution_count": 3,
      "outputs": []
    },
    {
      "cell_type": "markdown",
      "metadata": {
        "id": "-SLVTqgMdh6_"
      },
      "source": [
        "# 3. Importing the dataset"
      ]
    },
    {
      "cell_type": "code",
      "metadata": {
        "id": "SzbimqmgYtdm",
        "colab": {
          "base_uri": "https://localhost:8080/",
          "height": 171
        },
        "outputId": "afe549cb-1cd9-48ed-9ba1-79262439b044"
      },
      "source": [
        "lyric=open('/content/sample_data/lorde.txt').read()\n",
        "lyric[:2000]"
      ],
      "execution_count": 4,
      "outputs": [
        {
          "output_type": "execute_result",
          "data": {
            "application/vnd.google.colaboratory.intrinsic+json": {
              "type": "string"
            },
            "text/plain": [
              "\"Well, summer slipped us underneath her tongue\\nOur days and nights are perfumed with obsession\\nHalf of my wardrobe is on your bedroom floor\\nUse our eyes, throw our hands overboard I am your sweetheart psychopathic crush\\nDrink up your movements, still I can't get enough\\nI overthink your p-punctuation use\\nNot my fault, just a thing that my mind do A rush at the beginning\\nI get caught up, just for a minute\\nBut lover, you're the one to blame, all that you're doing\\nCan you hear the violence?\\nMegaphone to my chest Broadcast the boom boom boom boom\\nAnd make 'em all dance to it\\nBroadcast the boom boom boom boom\\nAnd make 'em all dance to it\\nBroadcast the boom boom boom boom\\nAnd make 'em all dance to it\\nBroadcast the boom boom boom boom\\nAnd make 'em all dance to it\\nBroadcast the boom boom boom boom\\nAnd make 'em all dance to it Our thing progresses, I call and you come through\\nBlow all my friendships to sit in hell with you\\nBut we're the greatest, they'll hang us in the Louvre\\nDown the back, but who cares, still the Louvre Okay I know that you are not my type (still I fall)\\nI'm just the sucker who let you fill her mind (but what about love?)\\nNothing wrong with it, supernatural\\nJust move in close to me, closer, you'll feel it coasting A rush at the beginning\\nI get caught up, just for a minute\\nBut lover, you're the one to blame, all that you're doing\\nCan you hear the violence?\\nMegaphone to my chest Broadcast the boom boom boom boom\\nAnd make 'em all dance to it\\nBroadcast the boom boom boom boom\\nAnd make 'em all dance to it\\nBroadcast the boom boom boom boom\\nAnd make 'em all dance to it\\nBroadcast the boom boom boom boom\\nAnd make 'em all dance to it\\nBroadcast the boom boom boom boom\\nAnd make 'em all dance to it Every night, I live and die\\nFeel the party to my bones\\nWatch the wasters blow the speakers\\nSpill my guts beneath the outdoor light\\nIt's just another graceless night\\nI hate the headlines and the weather\\nI'm nineteen and I'm on fire\\nBut when we're dancing I'm alright\\nIt's just a\""
            ]
          },
          "metadata": {
            "tags": []
          },
          "execution_count": 4
        }
      ]
    },
    {
      "cell_type": "markdown",
      "metadata": {
        "id": "XENuMyrxdxWJ"
      },
      "source": [
        "# 4.Pre processing"
      ]
    },
    {
      "cell_type": "code",
      "metadata": {
        "colab": {
          "base_uri": "https://localhost:8080/"
        },
        "id": "xNHGlwjvadFt",
        "outputId": "713f76d7-28f4-49d2-e888-795deced3ec9"
      },
      "source": [
        "corpus=lyric.lower().split('\\n')\n",
        "for i in range(40,60):\n",
        "    print(corpus[i])"
      ],
      "execution_count": 5,
      "outputs": [
        {
          "output_type": "stream",
          "text": [
            "watch the wasters blow the speakers\n",
            "spill my guts beneath the outdoor light\n",
            "it's just another graceless night\n",
            "i hate the headlines and the weather\n",
            "i'm nineteen and i'm on fire\n",
            "but when we're dancing i'm alright\n",
            "it's just another graceless night are you lost enough?\n",
            "have another drink, get lost in us\n",
            "this is how we get notorious, oh\n",
            "'cause i don't know\n",
            "if they keep tellin' me where to go\n",
            "i'll blow my brains out to the radio, oh all of the things we're taking\n",
            "'cause we are young and we're ashamed\n",
            "send us to perfect places\n",
            "all of our heroes fading\n",
            "now i can't stand to be alone\n",
            "let's go to perfect places every night, i live and die\n",
            "meet somebody, take 'em home\n",
            "let's kiss and then take off our clothes\n",
            "it's just another graceless night, 'cause all of the things we're taking\n"
          ],
          "name": "stdout"
        }
      ]
    },
    {
      "cell_type": "markdown",
      "metadata": {
        "id": "XgfNCBUid3N2"
      },
      "source": [
        "# 5.Code mounting drive"
      ]
    },
    {
      "cell_type": "code",
      "metadata": {
        "id": "ingxKKL7USIM",
        "colab": {
          "base_uri": "https://localhost:8080/"
        },
        "outputId": "ff608215-dd84-4981-c5ff-2be9a3aa04c5"
      },
      "source": [
        "from google.colab import drive\n",
        "drive.mount('/content/drive')"
      ],
      "execution_count": 6,
      "outputs": [
        {
          "output_type": "stream",
          "text": [
            "Mounted at /content/drive\n"
          ],
          "name": "stdout"
        }
      ]
    },
    {
      "cell_type": "markdown",
      "metadata": {
        "id": "qjCtZkXmeCR5"
      },
      "source": [
        "# 6.Tokenizing"
      ]
    },
    {
      "cell_type": "code",
      "metadata": {
        "colab": {
          "base_uri": "https://localhost:8080/"
        },
        "id": "uzGeQpo_ahMd",
        "outputId": "ae8216d9-dc1a-4145-caf7-7b002b0ec075"
      },
      "source": [
        "tokenizer = Tokenizer()\n",
        "tokenizer.fit_on_texts(corpus)\n",
        "total_words = len(tokenizer.word_index) + 1\n",
        "total_words"
      ],
      "execution_count": 7,
      "outputs": [
        {
          "output_type": "execute_result",
          "data": {
            "text/plain": [
              "1372"
            ]
          },
          "metadata": {
            "tags": []
          },
          "execution_count": 7
        }
      ]
    },
    {
      "cell_type": "markdown",
      "metadata": {
        "id": "1YXUmIRAeTu3"
      },
      "source": [
        "# 7.Creating Sequences"
      ]
    },
    {
      "cell_type": "code",
      "metadata": {
        "id": "LGWwX_WQaj0r"
      },
      "source": [
        "input_sequences = []\n",
        "for line in corpus:\n",
        "  token_list = tokenizer.texts_to_sequences([line])[0]\n",
        "  for i in range(1, len(token_list)):\n",
        "    n_gram_sequence = token_list[:i+1]\n",
        "    input_sequences.append(n_gram_sequence)\n"
      ],
      "execution_count": 8,
      "outputs": []
    },
    {
      "cell_type": "code",
      "metadata": {
        "colab": {
          "base_uri": "https://localhost:8080/"
        },
        "id": "cUQY1Hk9annE",
        "outputId": "c405ed23-3701-4f49-f6e2-7b8feec31ef8"
      },
      "source": [
        "for i in range(20):\n",
        "    print(input_sequences[i])"
      ],
      "execution_count": 9,
      "outputs": [
        {
          "output_type": "stream",
          "text": [
            "[112, 196]\n",
            "[112, 196, 703]\n",
            "[112, 196, 703, 42]\n",
            "[112, 196, 703, 42, 568]\n",
            "[112, 196, 703, 42, 568, 180]\n",
            "[112, 196, 703, 42, 568, 180, 569]\n",
            "[22, 165]\n",
            "[22, 165, 4]\n",
            "[22, 165, 4, 181]\n",
            "[22, 165, 4, 181, 36]\n",
            "[22, 165, 4, 181, 36, 704]\n",
            "[22, 165, 4, 181, 36, 704, 21]\n",
            "[22, 165, 4, 181, 36, 704, 21, 705]\n",
            "[706, 13]\n",
            "[706, 13, 9]\n",
            "[706, 13, 9, 707]\n",
            "[706, 13, 9, 707, 40]\n",
            "[706, 13, 9, 707, 40, 27]\n",
            "[706, 13, 9, 707, 40, 27, 19]\n",
            "[706, 13, 9, 707, 40, 27, 19, 439]\n"
          ],
          "name": "stdout"
        }
      ]
    },
    {
      "cell_type": "markdown",
      "metadata": {
        "id": "kbsU3j7pe6ld"
      },
      "source": [
        "# 8.Padding"
      ]
    },
    {
      "cell_type": "code",
      "metadata": {
        "colab": {
          "base_uri": "https://localhost:8080/"
        },
        "id": "wy-lPhQtbTmR",
        "outputId": "665c8b44-befa-48fb-f8fd-97fd6582244a"
      },
      "source": [
        "max_sequence_len = max([len(x) for x in input_sequences])\n",
        "input_sequences = np.array(pad_sequences(input_sequences, maxlen=max_sequence_len,\n",
        "padding='pre'))\n",
        "print(max_sequence_len)\n",
        "print(input_sequences)"
      ],
      "execution_count": 10,
      "outputs": [
        {
          "output_type": "stream",
          "text": [
            "29\n",
            "[[  0   0   0 ...   0 112 196]\n",
            " [  0   0   0 ... 112 196 703]\n",
            " [  0   0   0 ... 196 703  42]\n",
            " ...\n",
            " [  0   0   0 ... 207 140 140]\n",
            " [  0   0   0 ... 140 140 140]\n",
            " [  0   0   0 ... 140 140 140]]\n"
          ],
          "name": "stdout"
        }
      ]
    },
    {
      "cell_type": "markdown",
      "metadata": {
        "id": "qYh041pXfBB_"
      },
      "source": [
        "# 9.Building the model"
      ]
    },
    {
      "cell_type": "code",
      "metadata": {
        "colab": {
          "base_uri": "https://localhost:8080/"
        },
        "id": "GDbXQpE7bXIz",
        "outputId": "9f2d2a12-0280-467d-f5ad-1562e603ff5b"
      },
      "source": [
        "model = Sequential()\n",
        "model.add(Embedding(1372, 160, input_length=max_sequence_len-1))\n",
        "model.add(Bidirectional(LSTM(200, return_sequences = True)))\n",
        "model.add(Dropout(0.2))\n",
        "model.add(LSTM(100))\n",
        "model.add(Dense(1372/2, activation='relu', kernel_regularizer=regularizers.l2(0.001\n",
        ")))\n",
        "model.add(Dense(1372, activation='softmax'))\n",
        "model.compile(loss='categorical_crossentropy', optimizer='adam', metrics=['accuracy'])\n",
        "print(model.summary())"
      ],
      "execution_count": 11,
      "outputs": [
        {
          "output_type": "stream",
          "text": [
            "Model: \"sequential\"\n",
            "_________________________________________________________________\n",
            "Layer (type)                 Output Shape              Param #   \n",
            "=================================================================\n",
            "embedding (Embedding)        (None, 28, 160)           219520    \n",
            "_________________________________________________________________\n",
            "bidirectional (Bidirectional (None, 28, 400)           577600    \n",
            "_________________________________________________________________\n",
            "dropout (Dropout)            (None, 28, 400)           0         \n",
            "_________________________________________________________________\n",
            "lstm_1 (LSTM)                (None, 100)               200400    \n",
            "_________________________________________________________________\n",
            "dense (Dense)                (None, 686)               69286     \n",
            "_________________________________________________________________\n",
            "dense_1 (Dense)              (None, 1372)              942564    \n",
            "=================================================================\n",
            "Total params: 2,009,370\n",
            "Trainable params: 2,009,370\n",
            "Non-trainable params: 0\n",
            "_________________________________________________________________\n",
            "None\n"
          ],
          "name": "stdout"
        }
      ]
    },
    {
      "cell_type": "code",
      "metadata": {
        "id": "wIwzQP2dboBD"
      },
      "source": [
        "predictors, label = input_sequences[:,:-1],input_sequences[:,-1]\n",
        "label = ku.to_categorical(label, num_classes=total_words)"
      ],
      "execution_count": 12,
      "outputs": []
    },
    {
      "cell_type": "markdown",
      "metadata": {
        "id": "4XyPEDPWb7js"
      },
      "source": [
        "# 10. Training the model"
      ]
    },
    {
      "cell_type": "code",
      "metadata": {
        "colab": {
          "base_uri": "https://localhost:8080/"
        },
        "id": "CH-dVtFfcAOH",
        "outputId": "aea7622f-cb73-4133-a953-897d49e2a1d5"
      },
      "source": [
        "history = model.fit(predictors, label, epochs=50, verbose=1)"
      ],
      "execution_count": 13,
      "outputs": [
        {
          "output_type": "stream",
          "text": [
            "Epoch 1/50\n",
            "380/380 [==============================] - 102s 253ms/step - loss: 5.9903 - accuracy: 0.0510\n",
            "Epoch 2/50\n",
            "380/380 [==============================] - 95s 249ms/step - loss: 5.4439 - accuracy: 0.0571\n",
            "Epoch 3/50\n",
            "380/380 [==============================] - 89s 235ms/step - loss: 5.1040 - accuracy: 0.0702\n",
            "Epoch 4/50\n",
            "380/380 [==============================] - 91s 239ms/step - loss: 4.7814 - accuracy: 0.0965\n",
            "Epoch 5/50\n",
            "380/380 [==============================] - 92s 243ms/step - loss: 4.5172 - accuracy: 0.1312\n",
            "Epoch 6/50\n",
            "380/380 [==============================] - 91s 240ms/step - loss: 4.2415 - accuracy: 0.1735\n",
            "Epoch 7/50\n",
            "380/380 [==============================] - 91s 239ms/step - loss: 3.9767 - accuracy: 0.2148\n",
            "Epoch 8/50\n",
            "380/380 [==============================] - 90s 237ms/step - loss: 3.7303 - accuracy: 0.2477\n",
            "Epoch 9/50\n",
            "380/380 [==============================] - 90s 237ms/step - loss: 3.5111 - accuracy: 0.2747\n",
            "Epoch 10/50\n",
            "380/380 [==============================] - 90s 238ms/step - loss: 3.2899 - accuracy: 0.3148\n",
            "Epoch 11/50\n",
            "380/380 [==============================] - 91s 238ms/step - loss: 3.0935 - accuracy: 0.3521\n",
            "Epoch 12/50\n",
            "380/380 [==============================] - 91s 241ms/step - loss: 2.9152 - accuracy: 0.3836\n",
            "Epoch 13/50\n",
            "380/380 [==============================] - 91s 240ms/step - loss: 2.7443 - accuracy: 0.4182\n",
            "Epoch 14/50\n",
            "380/380 [==============================] - 91s 240ms/step - loss: 2.5855 - accuracy: 0.4514\n",
            "Epoch 15/50\n",
            "380/380 [==============================] - 90s 238ms/step - loss: 2.4345 - accuracy: 0.4854\n",
            "Epoch 16/50\n",
            "380/380 [==============================] - 90s 237ms/step - loss: 2.2876 - accuracy: 0.5139\n",
            "Epoch 17/50\n",
            "380/380 [==============================] - 91s 239ms/step - loss: 2.1489 - accuracy: 0.5467\n",
            "Epoch 18/50\n",
            "380/380 [==============================] - 93s 244ms/step - loss: 2.0179 - accuracy: 0.5793\n",
            "Epoch 19/50\n",
            "380/380 [==============================] - 90s 236ms/step - loss: 1.9304 - accuracy: 0.5944\n",
            "Epoch 20/50\n",
            "380/380 [==============================] - 90s 236ms/step - loss: 1.8049 - accuracy: 0.6237\n",
            "Epoch 21/50\n",
            "380/380 [==============================] - 89s 235ms/step - loss: 1.7198 - accuracy: 0.6462\n",
            "Epoch 22/50\n",
            "380/380 [==============================] - 90s 238ms/step - loss: 1.6382 - accuracy: 0.6614\n",
            "Epoch 23/50\n",
            "380/380 [==============================] - 92s 241ms/step - loss: 1.5528 - accuracy: 0.6801\n",
            "Epoch 24/50\n",
            "380/380 [==============================] - 92s 242ms/step - loss: 1.4840 - accuracy: 0.6923\n",
            "Epoch 25/50\n",
            "380/380 [==============================] - 89s 234ms/step - loss: 1.4045 - accuracy: 0.7102\n",
            "Epoch 26/50\n",
            "380/380 [==============================] - 88s 231ms/step - loss: 1.3658 - accuracy: 0.7199\n",
            "Epoch 27/50\n",
            "380/380 [==============================] - 89s 233ms/step - loss: 1.3008 - accuracy: 0.7312\n",
            "Epoch 28/50\n",
            "380/380 [==============================] - 89s 235ms/step - loss: 1.2482 - accuracy: 0.7450\n",
            "Epoch 29/50\n",
            "380/380 [==============================] - 89s 233ms/step - loss: 1.1792 - accuracy: 0.7626\n",
            "Epoch 30/50\n",
            "380/380 [==============================] - 88s 232ms/step - loss: 1.1515 - accuracy: 0.7661\n",
            "Epoch 31/50\n",
            "380/380 [==============================] - 89s 233ms/step - loss: 1.1124 - accuracy: 0.7781\n",
            "Epoch 32/50\n",
            "380/380 [==============================] - 89s 235ms/step - loss: 1.0904 - accuracy: 0.7811\n",
            "Epoch 33/50\n",
            "380/380 [==============================] - 90s 236ms/step - loss: 1.0417 - accuracy: 0.7932\n",
            "Epoch 34/50\n",
            "380/380 [==============================] - 93s 244ms/step - loss: 0.9988 - accuracy: 0.8021\n",
            "Epoch 35/50\n",
            "380/380 [==============================] - 89s 233ms/step - loss: 0.9581 - accuracy: 0.8092\n",
            "Epoch 36/50\n",
            "380/380 [==============================] - 89s 233ms/step - loss: 0.9470 - accuracy: 0.8054\n",
            "Epoch 37/50\n",
            "380/380 [==============================] - 91s 239ms/step - loss: 0.9326 - accuracy: 0.8142\n",
            "Epoch 38/50\n",
            "380/380 [==============================] - 94s 248ms/step - loss: 0.8917 - accuracy: 0.8232\n",
            "Epoch 39/50\n",
            "380/380 [==============================] - 90s 237ms/step - loss: 0.8622 - accuracy: 0.8277\n",
            "Epoch 40/50\n",
            "380/380 [==============================] - 90s 237ms/step - loss: 0.8341 - accuracy: 0.8336\n",
            "Epoch 41/50\n",
            "380/380 [==============================] - 89s 235ms/step - loss: 0.8145 - accuracy: 0.8382\n",
            "Epoch 42/50\n",
            "380/380 [==============================] - 91s 239ms/step - loss: 0.8035 - accuracy: 0.8430\n",
            "Epoch 43/50\n",
            "380/380 [==============================] - 90s 238ms/step - loss: 0.7858 - accuracy: 0.8406\n",
            "Epoch 44/50\n",
            "380/380 [==============================] - 90s 237ms/step - loss: 0.7693 - accuracy: 0.8440\n",
            "Epoch 45/50\n",
            "380/380 [==============================] - 91s 239ms/step - loss: 0.7494 - accuracy: 0.8494\n",
            "Epoch 46/50\n",
            "380/380 [==============================] - 91s 240ms/step - loss: 0.7343 - accuracy: 0.8521\n",
            "Epoch 47/50\n",
            "380/380 [==============================] - 91s 240ms/step - loss: 0.7200 - accuracy: 0.8555\n",
            "Epoch 48/50\n",
            "380/380 [==============================] - 93s 244ms/step - loss: 0.7057 - accuracy: 0.8552\n",
            "Epoch 49/50\n",
            "380/380 [==============================] - 93s 244ms/step - loss: 0.6756 - accuracy: 0.8646\n",
            "Epoch 50/50\n",
            "380/380 [==============================] - 93s 244ms/step - loss: 0.6807 - accuracy: 0.8621\n"
          ],
          "name": "stdout"
        }
      ]
    },
    {
      "cell_type": "markdown",
      "metadata": {
        "id": "EGGZhY-efTCA"
      },
      "source": [
        "# 11.Analysing the results"
      ]
    },
    {
      "cell_type": "code",
      "metadata": {
        "colab": {
          "base_uri": "https://localhost:8080/",
          "height": 545
        },
        "id": "aPtX9L3VcIMg",
        "outputId": "2ea7c81e-2e85-456c-d3a7-5fa6adc53e09"
      },
      "source": [
        "acc = history.history['accuracy']\n",
        "loss = history.history['loss']\n",
        "epochs = range(len(acc))\n",
        "plt.plot(epochs, acc, 'b', label='Training accuracy')\n",
        "plt.title('Training accuracy')\n",
        "plt.figure()\n",
        "plt.plot(epochs, loss, 'b', label='Training Loss')\n",
        "plt.title('Training loss')\n",
        "plt.legend()\n",
        "plt.show()"
      ],
      "execution_count": 14,
      "outputs": [
        {
          "output_type": "display_data",
          "data": {
            "image/png": "[encoded data removed]",
            "text/plain": [
              "<Figure size 432x288 with 1 Axes>"
            ]
          },
          "metadata": {
            "tags": [],
            "needs_background": "light"
          }
        },
        {
          "output_type": "display_data",
          "data": {
            "image/png": "[encoded data removed]",
            "text/plain": [
              "<Figure size 432x288 with 1 Axes>"
            ]
          },
          "metadata": {
            "tags": [],
            "needs_background": "light"
          }
        }
      ]
    },
    {
      "cell_type": "markdown",
      "metadata": {
        "id": "fxqy0r77fdht"
      },
      "source": [
        "# 12.Saving the model"
      ]
    },
    {
      "cell_type": "code",
      "metadata": {
        "id": "VSZ4VZvgkGzQ"
      },
      "source": [
        "model.save('lyrics_generator.h5')"
      ],
      "execution_count": 15,
      "outputs": []
    },
    {
      "cell_type": "markdown",
      "metadata": {
        "id": "lJZJGgO_gJrE"
      },
      "source": [
        "# 13.Loading the model"
      ]
    },
    {
      "cell_type": "code",
      "metadata": {
        "id": "NbhU3QWZDpIR"
      },
      "source": [
        "from keras.models import load_model\n",
        "loaded_model=load_model('lyrics_generator.h5')"
      ],
      "execution_count": 16,
      "outputs": []
    },
    {
      "cell_type": "code",
      "metadata": {
        "id": "PZYlViQ4yzWN"
      },
      "source": [
        "next_words=50\n",
        "seed_text='diamond in the flash'"
      ],
      "execution_count": 17,
      "outputs": []
    },
    {
      "cell_type": "code",
      "metadata": {
        "id": "as5Px40gEsw7"
      },
      "source": [
        "def lyrics(next_words,seed_text):\n",
        "  for _ in range(next_words):\n",
        "    token_list = tokenizer.texts_to_sequences([seed_text])[0]\n",
        "    token_list = pad_sequences([token_list], maxlen=max_sequence_len-\n",
        "  1, padding='pre')\n",
        "    predicted = np.argmax(loaded_model.predict(token_list, verbose=0), axis=-1)\n",
        "    output_word = \"\"\n",
        "    for word, index in tokenizer.word_index.items():\n",
        "      if index == predicted:\n",
        "        output_word = word\n",
        "        break\n",
        "    seed_text += \" \" + output_word\n",
        "  print(seed_text)"
      ],
      "execution_count": 18,
      "outputs": []
    },
    {
      "cell_type": "code",
      "metadata": {
        "colab": {
          "base_uri": "https://localhost:8080/"
        },
        "id": "yWFG2eRVmrVS",
        "outputId": "4f6de0a9-f1ca-4e91-8d1d-642d6a041eb2"
      },
      "source": [
        "lyrics(next_words,seed_text)"
      ],
      "execution_count": 19,
      "outputs": [
        {
          "output_type": "stream",
          "text": [
            "diamond in the flash red orange yellow flicker beat sparking up my heart i dream all year but they're not the same kinds of buzz do my mind do it let us of it you only back eyes back that where you back you only loved you that it's back you got take i'm\n"
          ],
          "name": "stdout"
        }
      ]
    },
    {
      "cell_type": "markdown",
      "metadata": {
        "id": "rUCeQ6ubgfMN"
      },
      "source": [
        "# Saving the model in json"
      ]
    },
    {
      "cell_type": "code",
      "metadata": {
        "id": "asSS5GlnEtrW"
      },
      "source": [
        "import time\n",
        "saved_model_path = \"./{}.h5\".format(int(time.time()))\n",
        "model.save(saved_model_path)"
      ],
      "execution_count": 20,
      "outputs": []
    },
    {
      "cell_type": "code",
      "metadata": {
        "id": "jcWo9xQ1m9VW",
        "colab": {
          "base_uri": "https://localhost:8080/"
        },
        "outputId": "2870e46c-8355-4955-d420-0f069181a3e9"
      },
      "source": [
        "!pip install tensorflowjs"
      ],
      "execution_count": 21,
      "outputs": [
        {
          "output_type": "stream",
          "text": [
            "Collecting tensorflowjs\n",
            "  Downloading tensorflowjs-3.8.0-py3-none-any.whl (64 kB)\n",
            "\u001b[?25l\r\u001b[K     |█████                           | 10 kB 19.9 MB/s eta 0:00:01\r\u001b[K     |██████████▏                     | 20 kB 25.2 MB/s eta 0:00:01\r\u001b[K     |███████████████▏                | 30 kB 13.7 MB/s eta 0:00:01\r\u001b[K     |████████████████████▎           | 40 kB 10.1 MB/s eta 0:00:01\r\u001b[K     |█████████████████████████▎      | 51 kB 5.0 MB/s eta 0:00:01\r\u001b[K     |██████████████████████████████▍ | 61 kB 5.3 MB/s eta 0:00:01\r\u001b[K     |████████████████████████████████| 64 kB 1.9 MB/s \n",
            "\u001b[?25hRequirement already satisfied: six<2,>=1.12.0 in /usr/local/lib/python3.7/dist-packages (from tensorflowjs) (1.15.0)\n",
            "Requirement already satisfied: tensorflow<3,>=2.1.0 in /usr/local/lib/python3.7/dist-packages (from tensorflowjs) (2.5.0)\n",
            "Requirement already satisfied: tensorflow-hub<0.13,>=0.7.0 in /usr/local/lib/python3.7/dist-packages (from tensorflowjs) (0.12.0)\n",
            "Requirement already satisfied: absl-py~=0.10 in /usr/local/lib/python3.7/dist-packages (from tensorflow<3,>=2.1.0->tensorflowjs) (0.12.0)\n",
            "Requirement already satisfied: gast==0.4.0 in /usr/local/lib/python3.7/dist-packages (from tensorflow<3,>=2.1.0->tensorflowjs) (0.4.0)\n",
            "Requirement already satisfied: tensorflow-estimator<2.6.0,>=2.5.0rc0 in /usr/local/lib/python3.7/dist-packages (from tensorflow<3,>=2.1.0->tensorflowjs) (2.5.0)\n",
            "Requirement already satisfied: wrapt~=1.12.1 in /usr/local/lib/python3.7/dist-packages (from tensorflow<3,>=2.1.0->tensorflowjs) (1.12.1)\n",
            "Requirement already satisfied: flatbuffers~=1.12.0 in /usr/local/lib/python3.7/dist-packages (from tensorflow<3,>=2.1.0->tensorflowjs) (1.12)\n",
            "Requirement already satisfied: h5py~=3.1.0 in /usr/local/lib/python3.7/dist-packages (from tensorflow<3,>=2.1.0->tensorflowjs) (3.1.0)\n",
            "Requirement already satisfied: typing-extensions~=3.7.4 in /usr/local/lib/python3.7/dist-packages (from tensorflow<3,>=2.1.0->tensorflowjs) (3.7.4.3)\n",
            "Requirement already satisfied: opt-einsum~=3.3.0 in /usr/local/lib/python3.7/dist-packages (from tensorflow<3,>=2.1.0->tensorflowjs) (3.3.0)\n",
            "Requirement already satisfied: keras-preprocessing~=1.1.2 in /usr/local/lib/python3.7/dist-packages (from tensorflow<3,>=2.1.0->tensorflowjs) (1.1.2)\n",
            "Requirement already satisfied: grpcio~=1.34.0 in /usr/local/lib/python3.7/dist-packages (from tensorflow<3,>=2.1.0->tensorflowjs) (1.34.1)\n",
            "Requirement already satisfied: wheel~=0.35 in /usr/local/lib/python3.7/dist-packages (from tensorflow<3,>=2.1.0->tensorflowjs) (0.36.2)\n",
            "Requirement already satisfied: astunparse~=1.6.3 in /usr/local/lib/python3.7/dist-packages (from tensorflow<3,>=2.1.0->tensorflowjs) (1.6.3)\n",
            "Requirement already satisfied: keras-nightly~=2.5.0.dev in /usr/local/lib/python3.7/dist-packages (from tensorflow<3,>=2.1.0->tensorflowjs) (2.5.0.dev2021032900)\n",
            "Requirement already satisfied: protobuf>=3.9.2 in /usr/local/lib/python3.7/dist-packages (from tensorflow<3,>=2.1.0->tensorflowjs) (3.17.3)\n",
            "Requirement already satisfied: numpy~=1.19.2 in /usr/local/lib/python3.7/dist-packages (from tensorflow<3,>=2.1.0->tensorflowjs) (1.19.5)\n",
            "Requirement already satisfied: termcolor~=1.1.0 in /usr/local/lib/python3.7/dist-packages (from tensorflow<3,>=2.1.0->tensorflowjs) (1.1.0)\n",
            "Requirement already satisfied: google-pasta~=0.2 in /usr/local/lib/python3.7/dist-packages (from tensorflow<3,>=2.1.0->tensorflowjs) (0.2.0)\n",
            "Requirement already satisfied: tensorboard~=2.5 in /usr/local/lib/python3.7/dist-packages (from tensorflow<3,>=2.1.0->tensorflowjs) (2.5.0)\n",
            "Requirement already satisfied: cached-property in /usr/local/lib/python3.7/dist-packages (from h5py~=3.1.0->tensorflow<3,>=2.1.0->tensorflowjs) (1.5.2)\n",
            "Requirement already satisfied: requests<3,>=2.21.0 in /usr/local/lib/python3.7/dist-packages (from tensorboard~=2.5->tensorflow<3,>=2.1.0->tensorflowjs) (2.23.0)\n",
            "Requirement already satisfied: tensorboard-data-server<0.7.0,>=0.6.0 in /usr/local/lib/python3.7/dist-packages (from tensorboard~=2.5->tensorflow<3,>=2.1.0->tensorflowjs) (0.6.1)\n",
            "Requirement already satisfied: setuptools>=41.0.0 in /usr/local/lib/python3.7/dist-packages (from tensorboard~=2.5->tensorflow<3,>=2.1.0->tensorflowjs) (57.2.0)\n",
            "Requirement already satisfied: werkzeug>=0.11.15 in /usr/local/lib/python3.7/dist-packages (from tensorboard~=2.5->tensorflow<3,>=2.1.0->tensorflowjs) (1.0.1)\n",
            "Requirement already satisfied: markdown>=2.6.8 in /usr/local/lib/python3.7/dist-packages (from tensorboard~=2.5->tensorflow<3,>=2.1.0->tensorflowjs) (3.3.4)\n",
            "Requirement already satisfied: google-auth<2,>=1.6.3 in /usr/local/lib/python3.7/dist-packages (from tensorboard~=2.5->tensorflow<3,>=2.1.0->tensorflowjs) (1.32.1)\n",
            "Requirement already satisfied: google-auth-oauthlib<0.5,>=0.4.1 in /usr/local/lib/python3.7/dist-packages (from tensorboard~=2.5->tensorflow<3,>=2.1.0->tensorflowjs) (0.4.4)\n",
            "Requirement already satisfied: tensorboard-plugin-wit>=1.6.0 in /usr/local/lib/python3.7/dist-packages (from tensorboard~=2.5->tensorflow<3,>=2.1.0->tensorflowjs) (1.8.0)\n",
            "Requirement already satisfied: rsa<5,>=3.1.4 in /usr/local/lib/python3.7/dist-packages (from google-auth<2,>=1.6.3->tensorboard~=2.5->tensorflow<3,>=2.1.0->tensorflowjs) (4.7.2)\n",
            "Requirement already satisfied: cachetools<5.0,>=2.0.0 in /usr/local/lib/python3.7/dist-packages (from google-auth<2,>=1.6.3->tensorboard~=2.5->tensorflow<3,>=2.1.0->tensorflowjs) (4.2.2)\n",
            "Requirement already satisfied: pyasn1-modules>=0.2.1 in /usr/local/lib/python3.7/dist-packages (from google-auth<2,>=1.6.3->tensorboard~=2.5->tensorflow<3,>=2.1.0->tensorflowjs) (0.2.8)\n",
            "Requirement already satisfied: requests-oauthlib>=0.7.0 in /usr/local/lib/python3.7/dist-packages (from google-auth-oauthlib<0.5,>=0.4.1->tensorboard~=2.5->tensorflow<3,>=2.1.0->tensorflowjs) (1.3.0)\n",
            "Requirement already satisfied: importlib-metadata in /usr/local/lib/python3.7/dist-packages (from markdown>=2.6.8->tensorboard~=2.5->tensorflow<3,>=2.1.0->tensorflowjs) (4.6.1)\n",
            "Requirement already satisfied: pyasn1<0.5.0,>=0.4.6 in /usr/local/lib/python3.7/dist-packages (from pyasn1-modules>=0.2.1->google-auth<2,>=1.6.3->tensorboard~=2.5->tensorflow<3,>=2.1.0->tensorflowjs) (0.4.8)\n",
            "Requirement already satisfied: urllib3!=1.25.0,!=1.25.1,<1.26,>=1.21.1 in /usr/local/lib/python3.7/dist-packages (from requests<3,>=2.21.0->tensorboard~=2.5->tensorflow<3,>=2.1.0->tensorflowjs) (1.24.3)\n",
            "Requirement already satisfied: idna<3,>=2.5 in /usr/local/lib/python3.7/dist-packages (from requests<3,>=2.21.0->tensorboard~=2.5->tensorflow<3,>=2.1.0->tensorflowjs) (2.10)\n",
            "Requirement already satisfied: chardet<4,>=3.0.2 in /usr/local/lib/python3.7/dist-packages (from requests<3,>=2.21.0->tensorboard~=2.5->tensorflow<3,>=2.1.0->tensorflowjs) (3.0.4)\n",
            "Requirement already satisfied: certifi>=2017.4.17 in /usr/local/lib/python3.7/dist-packages (from requests<3,>=2.21.0->tensorboard~=2.5->tensorflow<3,>=2.1.0->tensorflowjs) (2021.5.30)\n",
            "Requirement already satisfied: oauthlib>=3.0.0 in /usr/local/lib/python3.7/dist-packages (from requests-oauthlib>=0.7.0->google-auth-oauthlib<0.5,>=0.4.1->tensorboard~=2.5->tensorflow<3,>=2.1.0->tensorflowjs) (3.1.1)\n",
            "Requirement already satisfied: zipp>=0.5 in /usr/local/lib/python3.7/dist-packages (from importlib-metadata->markdown>=2.6.8->tensorboard~=2.5->tensorflow<3,>=2.1.0->tensorflowjs) (3.5.0)\n",
            "Installing collected packages: tensorflowjs\n",
            "Successfully installed tensorflowjs-3.8.0\n"
          ],
          "name": "stdout"
        }
      ]
    },
    {
      "cell_type": "code",
      "metadata": {
        "id": "iJ4bhekyFJoP"
      },
      "source": [
        "import tensorflowjs"
      ],
      "execution_count": 22,
      "outputs": []
    },
    {
      "cell_type": "code",
      "metadata": {
        "colab": {
          "base_uri": "https://localhost:8080/"
        },
        "id": "aQELdzzuIMF2",
        "outputId": "e91c91f3-dfd0-4f1c-a8f6-d62dbc005190"
      },
      "source": [
        "!tensorflowjs_converter --input_format=keras {saved_model_path} ./"
      ],
      "execution_count": 23,
      "outputs": [
        {
          "output_type": "stream",
          "text": [
            "2021-08-06 14:21:00.519061: I tensorflow/stream_executor/platform/default/dso_loader.cc:53] Successfully opened dynamic library libcudart.so.11.0\n"
          ],
          "name": "stdout"
        }
      ]
    },
    {
      "cell_type": "code",
      "metadata": {
        "colab": {
          "base_uri": "https://localhost:8080/"
        },
        "id": "nB_PpJddISTe",
        "outputId": "6a9deefd-1e18-4291-bacb-2243b8cefd59"
      },
      "source": [
        "model_json = model.to_json()\n",
        "with open(\"model.json\", \"w\") as json_file:\n",
        "    json_file.write(model_json)\n",
        "model.save_weights(\"model.h5\")\n",
        "print(\"Saved model to disk\")"
      ],
      "execution_count": 24,
      "outputs": [
        {
          "output_type": "stream",
          "text": [
            "Saved model to disk\n"
          ],
          "name": "stdout"
        }
      ]
    },
    {
      "cell_type": "markdown",
      "metadata": {
        "id": "u-7bpw_Ygkh_"
      },
      "source": [
        "# Loading the model from json"
      ]
    },
    {
      "cell_type": "code",
      "metadata": {
        "colab": {
          "base_uri": "https://localhost:8080/"
        },
        "id": "nqSSIwWBQWeX",
        "outputId": "08b81740-87f5-409b-a62a-e216e7141c52"
      },
      "source": [
        "from keras.models import model_from_json\n",
        "json_file = open('model.json', 'r')\n",
        "loaded_model_json = json_file.read()\n",
        "json_file.close()\n",
        "loaded_model = model_from_json(loaded_model_json)\n",
        "loaded_model.load_weights(\"model.h5\")\n",
        "print(\"Loaded model from disk\")"
      ],
      "execution_count": 25,
      "outputs": [
        {
          "output_type": "stream",
          "text": [
            "Loaded model from disk\n"
          ],
          "name": "stdout"
        }
      ]
    },
    {
      "cell_type": "code",
      "metadata": {
        "colab": {
          "base_uri": "https://localhost:8080/"
        },
        "id": "27zJZDXUQmqx",
        "outputId": "514e5882-3a32-4040-8701-26c326e5595e"
      },
      "source": [
        "loaded_model.summary()"
      ],
      "execution_count": 26,
      "outputs": [
        {
          "output_type": "stream",
          "text": [
            "Model: \"sequential\"\n",
            "_________________________________________________________________\n",
            "Layer (type)                 Output Shape              Param #   \n",
            "=================================================================\n",
            "embedding (Embedding)        (None, 28, 160)           219520    \n",
            "_________________________________________________________________\n",
            "bidirectional (Bidirectional (None, 28, 400)           577600    \n",
            "_________________________________________________________________\n",
            "dropout (Dropout)            (None, 28, 400)           0         \n",
            "_________________________________________________________________\n",
            "lstm_1 (LSTM)                (None, 100)               200400    \n",
            "_________________________________________________________________\n",
            "dense (Dense)                (None, 686)               69286     \n",
            "_________________________________________________________________\n",
            "dense_1 (Dense)              (None, 1372)              942564    \n",
            "=================================================================\n",
            "Total params: 2,009,370\n",
            "Trainable params: 2,009,370\n",
            "Non-trainable params: 0\n",
            "_________________________________________________________________\n"
          ],
          "name": "stdout"
        }
      ]
    },
    {
      "cell_type": "code",
      "metadata": {
        "id": "ZIDdE3sIa7lt"
      },
      "source": [
        "next_words = 100\n",
        "seed_text = \"diamond in the flash\""
      ],
      "execution_count": 27,
      "outputs": []
    },
    {
      "cell_type": "code",
      "metadata": {
        "id": "PxAcxOkkpnxL"
      },
      "source": [
        "def lyrics(next_words,seed_text):\n",
        "  for _ in range(next_words):\n",
        "    token_list = tokenizer.texts_to_sequences([seed_text])[0]\n",
        "    token_list = pad_sequences([token_list], maxlen=max_sequence_len-\n",
        "  1, padding='pre')\n",
        "    predicted = np.argmax(loaded_model.predict(token_list, verbose=0), axis=-1)\n",
        "    output_word = \"\"\n",
        "    for word, index in tokenizer.word_index.items():\n",
        "      if index == predicted:\n",
        "        output_word = word\n",
        "        break\n",
        "    seed_text += \" \" + output_word\n",
        "  print(seed_text)"
      ],
      "execution_count": 28,
      "outputs": []
    },
    {
      "cell_type": "code",
      "metadata": {
        "colab": {
          "base_uri": "https://localhost:8080/"
        },
        "id": "98PRS65NpqLf",
        "outputId": "0f23a642-aba8-420f-a56d-54e1266db5a0"
      },
      "source": [
        "lyrics(next_words,seed_text)"
      ],
      "execution_count": 29,
      "outputs": [
        {
          "output_type": "stream",
          "text": [
            "diamond in the flash red orange yellow flicker beat sparking up my heart i dream all year but they're not the same kinds of buzz do my mind do it let us of it you only back eyes back that where you back you only loved you that it's back you got take i'm people are be royals royals to work time time size i call that we were back i back these right dream with me and down big light i back my mother's child i'll our lovers i call you only loved you only much down to me back that i will\n"
          ],
          "name": "stdout"
        }
      ]
    },
    {
      "cell_type": "code",
      "metadata": {
        "id": "wk5N3MhkpwtG"
      },
      "source": [
        "next_words=50"
      ],
      "execution_count": 30,
      "outputs": []
    },
    {
      "cell_type": "code",
      "metadata": {
        "colab": {
          "base_uri": "https://localhost:8080/",
          "height": 35
        },
        "id": "3cBc_EQHtM4b",
        "outputId": "b88e4d37-8e5b-45d9-cd32-006917e485e5"
      },
      "source": [
        "seed_text"
      ],
      "execution_count": 31,
      "outputs": [
        {
          "output_type": "execute_result",
          "data": {
            "application/vnd.google.colaboratory.intrinsic+json": {
              "type": "string"
            },
            "text/plain": [
              "'diamond in the flash'"
            ]
          },
          "metadata": {
            "tags": []
          },
          "execution_count": 31
        }
      ]
    },
    {
      "cell_type": "code",
      "metadata": {
        "id": "HC9qqb4UtQQ8"
      },
      "source": [
        "seed_text=\"hey you are a\""
      ],
      "execution_count": 32,
      "outputs": []
    },
    {
      "cell_type": "code",
      "metadata": {
        "colab": {
          "base_uri": "https://localhost:8080/"
        },
        "id": "Pqta0pCKtVcH",
        "outputId": "1dfa18a4-2711-43a7-bad8-7bea45257271"
      },
      "source": [
        "lyrics(next_words,seed_text)"
      ],
      "execution_count": 33,
      "outputs": [
        {
          "output_type": "stream",
          "text": [
            "hey you are a little much for me it's boring how people talk to me good b i never go those holes as leave it so nonchalant gonna had eyes come you know up with me and the swingin' other how there's a evening pulled it the same kinds of rubies cares we let\n"
          ],
          "name": "stdout"
        }
      ]
    },
    {
      "cell_type": "markdown",
      "metadata": {
        "id": "UD8C_Ao62kyW"
      },
      "source": [
        " Model Testing\n",
        "\n"
      ]
    },
    {
      "cell_type": "markdown",
      "metadata": {
        "id": "Y9JHBWep2r53"
      },
      "source": [
        "# Model Testing\n"
      ]
    },
    {
      "cell_type": "code",
      "metadata": {
        "id": "BwpcfJ5nXZ1u"
      },
      "source": [
        "from tensorflow.keras.preprocessing.sequence import pad_sequences\n",
        "from tensorflow.keras.layers import Embedding, LSTM, Dense, Dropout, Bidirectional\n",
        "from tensorflow.keras.preprocessing.text import Tokenizer\n",
        "from tensorflow.keras.models import Sequential\n",
        "from tensorflow.keras.optimizers import Adam\n",
        "from tensorflow.keras import regularizers\n",
        "import tensorflow.keras.utils as ku\n",
        "import numpy as np\n",
        "import pandas as pd\n",
        "import matplotlib.pyplot as plt\n",
        "import tensorflow as tf"
      ],
      "execution_count": 34,
      "outputs": []
    },
    {
      "cell_type": "code",
      "metadata": {
        "id": "dWCLSkEo2jL2",
        "outputId": "d4ff6d29-7e3b-43b9-827f-5fd4cdcdf396",
        "colab": {
          "base_uri": "https://localhost:8080/"
        }
      },
      "source": [
        "tokenizer = Tokenizer()\n",
        "tokenizer.fit_on_texts(corpus)\n",
        "total_words = len(tokenizer.word_index) + 1\n",
        "total_words"
      ],
      "execution_count": 35,
      "outputs": [
        {
          "output_type": "execute_result",
          "data": {
            "text/plain": [
              "1372"
            ]
          },
          "metadata": {
            "tags": []
          },
          "execution_count": 35
        }
      ]
    },
    {
      "cell_type": "code",
      "metadata": {
        "id": "yq2FuLzV2oPU"
      },
      "source": [
        "input_sequences = []\n",
        "for line in corpus:\n",
        "  token_list = tokenizer.texts_to_sequences([line])[0]\n",
        "  for i in range(1, len(token_list)):\n",
        "    n_gram_sequence = token_list[:i+1]\n",
        "    input_sequences.append(n_gram_sequence)"
      ],
      "execution_count": 36,
      "outputs": []
    },
    {
      "cell_type": "code",
      "metadata": {
        "id": "ww76PCpA3t79",
        "outputId": "0d1c8eaf-c5d7-47d8-ca16-86d1157905a4",
        "colab": {
          "base_uri": "https://localhost:8080/"
        }
      },
      "source": [
        "max_sequence_len = max([len(x) for x in input_sequences])\n",
        "input_sequences = np.array(pad_sequences(input_sequences, maxlen=max_sequence_len,\n",
        "padding='pre'))\n",
        "print(max_sequence_len)\n",
        "print(input_sequences)"
      ],
      "execution_count": 37,
      "outputs": [
        {
          "output_type": "stream",
          "text": [
            "29\n",
            "[[  0   0   0 ...   0 112 196]\n",
            " [  0   0   0 ... 112 196 703]\n",
            " [  0   0   0 ... 196 703  42]\n",
            " ...\n",
            " [  0   0   0 ... 207 140 140]\n",
            " [  0   0   0 ... 140 140 140]\n",
            " [  0   0   0 ... 140 140 140]]\n"
          ],
          "name": "stdout"
        }
      ]
    },
    {
      "cell_type": "code",
      "metadata": {
        "id": "tLqOvkmv4mDK"
      },
      "source": [
        "from keras.models import load_model\n",
        "loaded_model = load_model('lyrics_generator.h5')"
      ],
      "execution_count": 38,
      "outputs": []
    },
    {
      "cell_type": "code",
      "metadata": {
        "id": "7fC98Epr4n8l"
      },
      "source": [
        "next_words = 50\n",
        "seed_text = \"i am a king\""
      ],
      "execution_count": 39,
      "outputs": []
    },
    {
      "cell_type": "code",
      "metadata": {
        "id": "W_6VV4ol4r1d"
      },
      "source": [
        "def lyrics(next_words,seed_text):\n",
        "  for _ in range(next_words):\n",
        "    token_list = tokenizer.texts_to_sequences([seed_text])[0]\n",
        "    token_list = pad_sequences([token_list], maxlen=max_sequence_len-\n",
        "  1, padding='pre')\n",
        "    predicted = np.argmax(loaded_model.predict(token_list, verbose=0), axis=-1)\n",
        "    output_word = \"\"\n",
        "    for word, index in tokenizer.word_index.items():\n",
        "      if index == predicted:\n",
        "        output_word = word\n",
        "        break\n",
        "    seed_text += \" \" + output_word\n",
        "  print(seed_text)"
      ],
      "execution_count": 40,
      "outputs": []
    },
    {
      "cell_type": "code",
      "metadata": {
        "id": "O84P3eb54sYF",
        "outputId": "978a6581-60da-4b30-d845-a885d7108807",
        "colab": {
          "base_uri": "https://localhost:8080/"
        }
      },
      "source": [
        "lyrics(next_words,seed_text)"
      ],
      "execution_count": 41,
      "outputs": [
        {
          "output_type": "stream",
          "text": [
            "i am a king of heads a toy that people enjoy my mind do a rush at the beginning that we offered when i reach for you all that you're down that i thought back i'm little way it only hits eyes only good at wish it up eyes perfect like i'm back eyes\n"
          ],
          "name": "stdout"
        }
      ]
    },
    {
      "cell_type": "code",
      "metadata": {
        "id": "qr8Dh121H_lk",
        "outputId": "d7475e8f-9579-425e-ebea-c7ee013aa98b",
        "colab": {
          "base_uri": "https://localhost:8080/"
        }
      },
      "source": [
        "!pip install jupyter-dash"
      ],
      "execution_count": 42,
      "outputs": [
        {
          "output_type": "stream",
          "text": [
            "Collecting jupyter-dash\n",
            "  Downloading jupyter_dash-0.4.0-py3-none-any.whl (20 kB)\n",
            "Requirement already satisfied: ipykernel in /usr/local/lib/python3.7/dist-packages (from jupyter-dash) (4.10.1)\n",
            "Collecting dash\n",
            "  Downloading dash-1.21.0.tar.gz (1.1 MB)\n",
            "\u001b[K     |████████████████████████████████| 1.1 MB 6.3 MB/s \n",
            "\u001b[?25hRequirement already satisfied: ipython in /usr/local/lib/python3.7/dist-packages (from jupyter-dash) (5.5.0)\n",
            "Requirement already satisfied: requests in /usr/local/lib/python3.7/dist-packages (from jupyter-dash) (2.23.0)\n",
            "Requirement already satisfied: retrying in /usr/local/lib/python3.7/dist-packages (from jupyter-dash) (1.3.3)\n",
            "Requirement already satisfied: flask in /usr/local/lib/python3.7/dist-packages (from jupyter-dash) (1.1.4)\n",
            "Collecting ansi2html\n",
            "  Downloading ansi2html-1.6.0-py3-none-any.whl (14 kB)\n",
            "Collecting flask-compress\n",
            "  Downloading Flask_Compress-1.10.1-py3-none-any.whl (7.9 kB)\n",
            "Requirement already satisfied: plotly in /usr/local/lib/python3.7/dist-packages (from dash->jupyter-dash) (4.4.1)\n",
            "Collecting dash-core-components==1.17.1\n",
            "  Downloading dash_core_components-1.17.1.tar.gz (3.7 MB)\n",
            "\u001b[K     |████████████████████████████████| 3.7 MB 30.6 MB/s \n",
            "\u001b[?25hCollecting dash-html-components==1.1.4\n",
            "  Downloading dash_html_components-1.1.4.tar.gz (83 kB)\n",
            "\u001b[K     |████████████████████████████████| 83 kB 2.0 MB/s \n",
            "\u001b[?25hCollecting dash-table==4.12.0\n",
            "  Downloading dash_table-4.12.0.tar.gz (1.8 MB)\n",
            "\u001b[K     |████████████████████████████████| 1.8 MB 65.0 MB/s \n",
            "\u001b[?25hRequirement already satisfied: future in /usr/local/lib/python3.7/dist-packages (from dash->jupyter-dash) (0.16.0)\n",
            "Requirement already satisfied: itsdangerous<2.0,>=0.24 in /usr/local/lib/python3.7/dist-packages (from flask->jupyter-dash) (1.1.0)\n",
            "Requirement already satisfied: Jinja2<3.0,>=2.10.1 in /usr/local/lib/python3.7/dist-packages (from flask->jupyter-dash) (2.11.3)\n",
            "Requirement already satisfied: Werkzeug<2.0,>=0.15 in /usr/local/lib/python3.7/dist-packages (from flask->jupyter-dash) (1.0.1)\n",
            "Requirement already satisfied: click<8.0,>=5.1 in /usr/local/lib/python3.7/dist-packages (from flask->jupyter-dash) (7.1.2)\n",
            "Requirement already satisfied: MarkupSafe>=0.23 in /usr/local/lib/python3.7/dist-packages (from Jinja2<3.0,>=2.10.1->flask->jupyter-dash) (2.0.1)\n",
            "Collecting brotli\n",
            "  Downloading Brotli-1.0.9-cp37-cp37m-manylinux1_x86_64.whl (357 kB)\n",
            "\u001b[K     |████████████████████████████████| 357 kB 40.1 MB/s \n",
            "\u001b[?25hRequirement already satisfied: tornado>=4.0 in /usr/local/lib/python3.7/dist-packages (from ipykernel->jupyter-dash) (5.1.1)\n",
            "Requirement already satisfied: jupyter-client in /usr/local/lib/python3.7/dist-packages (from ipykernel->jupyter-dash) (5.3.5)\n",
            "Requirement already satisfied: traitlets>=4.1.0 in /usr/local/lib/python3.7/dist-packages (from ipykernel->jupyter-dash) (5.0.5)\n",
            "Requirement already satisfied: decorator in /usr/local/lib/python3.7/dist-packages (from ipython->jupyter-dash) (4.4.2)\n",
            "Requirement already satisfied: prompt-toolkit<2.0.0,>=1.0.4 in /usr/local/lib/python3.7/dist-packages (from ipython->jupyter-dash) (1.0.18)\n",
            "Requirement already satisfied: pickleshare in /usr/local/lib/python3.7/dist-packages (from ipython->jupyter-dash) (0.7.5)\n",
            "Requirement already satisfied: simplegeneric>0.8 in /usr/local/lib/python3.7/dist-packages (from ipython->jupyter-dash) (0.8.1)\n",
            "Requirement already satisfied: setuptools>=18.5 in /usr/local/lib/python3.7/dist-packages (from ipython->jupyter-dash) (57.2.0)\n",
            "Requirement already satisfied: pygments in /usr/local/lib/python3.7/dist-packages (from ipython->jupyter-dash) (2.6.1)\n",
            "Requirement already satisfied: pexpect in /usr/local/lib/python3.7/dist-packages (from ipython->jupyter-dash) (4.8.0)\n",
            "Requirement already satisfied: six>=1.9.0 in /usr/local/lib/python3.7/dist-packages (from prompt-toolkit<2.0.0,>=1.0.4->ipython->jupyter-dash) (1.15.0)\n",
            "Requirement already satisfied: wcwidth in /usr/local/lib/python3.7/dist-packages (from prompt-toolkit<2.0.0,>=1.0.4->ipython->jupyter-dash) (0.2.5)\n",
            "Requirement already satisfied: ipython-genutils in /usr/local/lib/python3.7/dist-packages (from traitlets>=4.1.0->ipykernel->jupyter-dash) (0.2.0)\n",
            "Requirement already satisfied: pyzmq>=13 in /usr/local/lib/python3.7/dist-packages (from jupyter-client->ipykernel->jupyter-dash) (22.1.0)\n",
            "Requirement already satisfied: jupyter-core>=4.6.0 in /usr/local/lib/python3.7/dist-packages (from jupyter-client->ipykernel->jupyter-dash) (4.7.1)\n",
            "Requirement already satisfied: python-dateutil>=2.1 in /usr/local/lib/python3.7/dist-packages (from jupyter-client->ipykernel->jupyter-dash) (2.8.1)\n",
            "Requirement already satisfied: ptyprocess>=0.5 in /usr/local/lib/python3.7/dist-packages (from pexpect->ipython->jupyter-dash) (0.7.0)\n",
            "Requirement already satisfied: chardet<4,>=3.0.2 in /usr/local/lib/python3.7/dist-packages (from requests->jupyter-dash) (3.0.4)\n",
            "Requirement already satisfied: urllib3!=1.25.0,!=1.25.1,<1.26,>=1.21.1 in /usr/local/lib/python3.7/dist-packages (from requests->jupyter-dash) (1.24.3)\n",
            "Requirement already satisfied: idna<3,>=2.5 in /usr/local/lib/python3.7/dist-packages (from requests->jupyter-dash) (2.10)\n",
            "Requirement already satisfied: certifi>=2017.4.17 in /usr/local/lib/python3.7/dist-packages (from requests->jupyter-dash) (2021.5.30)\n",
            "Building wheels for collected packages: dash, dash-core-components, dash-html-components, dash-table\n",
            "  Building wheel for dash (setup.py) ... \u001b[?25l\u001b[?25hdone\n",
            "  Created wheel for dash: filename=dash-1.21.0-py3-none-any.whl size=1100489 sha256=be199c970c63ac0064c3206871060d486229d61f8f8c9a859173b092ca974958\n",
            "  Stored in directory: /root/.cache/pip/wheels/59/a4/f1/a7140afcad8dbaa3b1b12ef80843d29403d6ecca1c2f397948\n",
            "  Building wheel for dash-core-components (setup.py) ... \u001b[?25l\u001b[?25hdone\n",
            "  Created wheel for dash-core-components: filename=dash_core_components-1.17.1-py3-none-any.whl size=3738995 sha256=ddcac7e5f4a35fdd83f00518a139093b64396183ff0f61a9cba94f0e87b9b616\n",
            "  Stored in directory: /root/.cache/pip/wheels/ca/5b/fb/a135a7bf8e21223e4104aa5526a5173a20b64fe7fcd055b999\n",
            "  Building wheel for dash-html-components (setup.py) ... \u001b[?25l\u001b[?25hdone\n",
            "  Created wheel for dash-html-components: filename=dash_html_components-1.1.4-py3-none-any.whl size=319771 sha256=51c20d5630f2578cdf69448b7816bfa6797059db51621086bfa4a1f5d88d84fc\n",
            "  Stored in directory: /root/.cache/pip/wheels/51/d7/5f/5730b784b5333941740a0dfc57b10395c3507b35ddac112ac0\n",
            "  Building wheel for dash-table (setup.py) ... \u001b[?25l\u001b[?25hdone\n",
            "  Created wheel for dash-table: filename=dash_table-4.12.0-py3-none-any.whl size=1837674 sha256=8e1b927da0b6bea68ea8df1ad08608b211061c23400828922dc6f5e3cd5fcc15\n",
            "  Stored in directory: /root/.cache/pip/wheels/5f/d4/8b/639186e25b7234dac44ba004cfb58ea5b39fe492085bda2a88\n",
            "Successfully built dash dash-core-components dash-html-components dash-table\n",
            "Installing collected packages: brotli, flask-compress, dash-table, dash-html-components, dash-core-components, dash, ansi2html, jupyter-dash\n",
            "Successfully installed ansi2html-1.6.0 brotli-1.0.9 dash-1.21.0 dash-core-components-1.17.1 dash-html-components-1.1.4 dash-table-4.12.0 flask-compress-1.10.1 jupyter-dash-0.4.0\n"
          ],
          "name": "stdout"
        }
      ]
    },
    {
      "cell_type": "code",
      "metadata": {
        "id": "H2T0AQ2_IB3x"
      },
      "source": [
        "import plotly.express as px\n",
        "from jupyter_dash import JupyterDash\n",
        "import dash_core_components as dcc\n",
        "import dash_html_components as html\n",
        "from dash.dependencies import Input, Output\n"
      ],
      "execution_count": 43,
      "outputs": []
    },
    {
      "cell_type": "code",
      "metadata": {
        "id": "c8w-CKjNIE55"
      },
      "source": [
        "df = px.data.tips()# Build App\n",
        "app = JupyterDash(__name__)\n",
        "\n",
        "app.layout = html.Div([\n",
        "    html.H1('Lyrics Generator'),\n",
        "    html.Div([\"Next_words: \",\n",
        "              dcc.Input(id='my-input', type='number')]),\n",
        "    html.Div([\"Seed_text: \",\n",
        "              dcc.Input(id='my-input1', type='text')]),\n",
        "    html.Button('Generate Lyrics', id='show-lyrics'),\n",
        "    html.Div(id='body-div')\n",
        "])\n",
        "\n",
        "@app.callback(\n",
        "    Output(component_id='body-div', component_property='children'),\n",
        "    Input(component_id='show-lyrics', component_property='n_clicks'),\n",
        "    Input(component_id='my-input', component_property='value'),\n",
        "    Input(component_id='my-input1', component_property='value'),    \n",
        ")\n",
        "def update_output(n_clicks,input_value,input_value1):\n",
        "    if n_clicks is None:\n",
        "        raise PreventUpdate\n",
        "    else:\n",
        "        return lyrics(input_value,input_value1)\n",
        "def lyrics(next_words,seed_text):\n",
        "  for _ in range(next_words):\n",
        "    token_list = tokenizer.texts_to_sequences([seed_text])[0]\n",
        "    token_list = pad_sequences([token_list], maxlen=max_sequence_len-\n",
        "  1, padding='pre')\n",
        "    predicted = np.argmax(loaded_model.predict(token_list, verbose=0), axis=-1)\n",
        "    output_word = \"\"\n",
        "    for word, index in tokenizer.word_index.items():\n",
        "      if index == predicted:\n",
        "        output_word = word\n",
        "        break\n",
        "    seed_text += \" \" + output_word\n",
        "  return seed_text"
      ],
      "execution_count": 44,
      "outputs": []
    },
    {
      "cell_type": "code",
      "metadata": {
        "id": "Xbapk1LUIGZZ",
        "outputId": "8bf43597-71ed-4310-b751-5eb787602c8a",
        "colab": {
          "base_uri": "https://localhost:8080/",
          "height": 51
        }
      },
      "source": [
        "app.run_server(mode='external', port=8060)"
      ],
      "execution_count": 47,
      "outputs": [
        {
          "output_type": "stream",
          "text": [
            "Dash app running on:\n"
          ],
          "name": "stdout"
        },
        {
          "output_type": "display_data",
          "data": {
            "application/javascript": [
              "(async (port, path, text, element) => {\n",
              "    if (!google.colab.kernel.accessAllowed) {\n",
              "      return;\n",
              "    }\n",
              "    element.appendChild(document.createTextNode(''));\n",
              "    const url = await google.colab.kernel.proxyPort(port);\n",
              "    const anchor = document.createElement('a');\n",
              "    anchor.href = new URL(path, url).toString();\n",
              "    anchor.target = '_blank';\n",
              "    anchor.setAttribute('data-href', url + path);\n",
              "    anchor.textContent = text;\n",
              "    element.appendChild(anchor);\n",
              "  })(8060, \"/\", \"http://127.0.0.1:8060/\", window.element)"
            ],
            "text/plain": [
              "<IPython.core.display.Javascript object>"
            ]
          },
          "metadata": {
            "tags": []
          }
        }
      ]
    },
    {
      "cell_type": "code",
      "metadata": {
        "id": "IqkgGvssIIii"
      },
      "source": [
        "app._terminate_server_for_port(\"localhost\", 8060)"
      ],
      "execution_count": 46,
      "outputs": []
    },
    {
      "cell_type": "code",
      "metadata": {
        "id": "uuM2ESJhIKWO"
      },
      "source": [
        ""
      ],
      "execution_count": null,
      "outputs": []
    }
  ]
}