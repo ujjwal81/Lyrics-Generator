{
  "nbformat": 4,
  "nbformat_minor": 0,
  "metadata": {
    "colab": {
      "name": "Untitled0.ipynb",
      "provenance": [],
      "toc_visible": true
    },
    "kernelspec": {
      "name": "python3",
      "display_name": "Python 3"
    },
    "language_info": {
      "name": "python"
    }
  },
  "cells": [
    {
      "cell_type": "code",
      "metadata": {
        "id": "QhDUUfVIJcZQ"
      },
      "source": [
        "from tensorflow.keras.preprocessing.sequence import pad_sequences\n",
        "from tensorflow.keras.layers import Embedding, LSTM, Dense, Dropout, Bidirectional\n",
        "from tensorflow.keras.preprocessing.text import Tokenizer\n",
        "from tensorflow.keras.models import Sequential\n",
        "from tensorflow.keras.optimizers import Adam\n",
        "from tensorflow.keras import regularizers\n",
        "import tensorflow.keras.utils as ku\n",
        "import numpy as np\n",
        "import pandas as pd\n",
        "import matplotlib.pyplot as plt\n",
        "import tensorflow as tf"
      ],
      "execution_count": null,
      "outputs": []
    },
    {
      "cell_type": "code",
      "metadata": {
        "colab": {
          "base_uri": "https://localhost:8080/",
          "height": 171
        },
        "id": "nvn8EC_ZJpp2",
        "outputId": "0a044f49-33ee-4658-93bd-0b70d6b595de"
      },
      "source": [
        "lyric=open('/content/lorde.txt').read()\n",
        "lyric[:2000]"
      ],
      "execution_count": null,
      "outputs": [
        {
          "output_type": "execute_result",
          "data": {
            "application/vnd.google.colaboratory.intrinsic+json": {
              "type": "string"
            },
            "text/plain": [
              "\"Well, summer slipped us underneath her tongue\\nOur days and nights are perfumed with obsession\\nHalf of my wardrobe is on your bedroom floor\\nUse our eyes, throw our hands overboard I am your sweetheart psychopathic crush\\nDrink up your movements, still I can't get enough\\nI overthink your p-punctuation use\\nNot my fault, just a thing that my mind do A rush at the beginning\\nI get caught up, just for a minute\\nBut lover, you're the one to blame, all that you're doing\\nCan you hear the violence?\\nMegaphone to my chest Broadcast the boom boom boom boom\\nAnd make 'em all dance to it\\nBroadcast the boom boom boom boom\\nAnd make 'em all dance to it\\nBroadcast the boom boom boom boom\\nAnd make 'em all dance to it\\nBroadcast the boom boom boom boom\\nAnd make 'em all dance to it\\nBroadcast the boom boom boom boom\\nAnd make 'em all dance to it Our thing progresses, I call and you come through\\nBlow all my friendships to sit in hell with you\\nBut we're the greatest, they'll hang us in the Louvre\\nDown the back, but who cares, still the Louvre Okay I know that you are not my type (still I fall)\\nI'm just the sucker who let you fill her mind (but what about love?)\\nNothing wrong with it, supernatural\\nJust move in close to me, closer, you'll feel it coasting A rush at the beginning\\nI get caught up, just for a minute\\nBut lover, you're the one to blame, all that you're doing\\nCan you hear the violence?\\nMegaphone to my chest Broadcast the boom boom boom boom\\nAnd make 'em all dance to it\\nBroadcast the boom boom boom boom\\nAnd make 'em all dance to it\\nBroadcast the boom boom boom boom\\nAnd make 'em all dance to it\\nBroadcast the boom boom boom boom\\nAnd make 'em all dance to it\\nBroadcast the boom boom boom boom\\nAnd make 'em all dance to it Every night, I live and die\\nFeel the party to my bones\\nWatch the wasters blow the speakers\\nSpill my guts beneath the outdoor light\\nIt's just another graceless night\\nI hate the headlines and the weather\\nI'm nineteen and I'm on fire\\nBut when we're dancing I'm alright\\nIt's just a\""
            ]
          },
          "metadata": {
            "tags": []
          },
          "execution_count": 20
        }
      ]
    },
    {
      "cell_type": "code",
      "metadata": {
        "colab": {
          "base_uri": "https://localhost:8080/"
        },
        "id": "Lw7-tgOZJrE0",
        "outputId": "1134c7b7-383f-4d55-8176-026beaa72b16"
      },
      "source": [
        "corpus=lyric.lower().split('\\n')\n",
        "for i in range(40,60):\n",
        "    print(corpus[i])"
      ],
      "execution_count": null,
      "outputs": [
        {
          "output_type": "stream",
          "text": [
            "watch the wasters blow the speakers\n",
            "spill my guts beneath the outdoor light\n",
            "it's just another graceless night\n",
            "i hate the headlines and the weather\n",
            "i'm nineteen and i'm on fire\n",
            "but when we're dancing i'm alright\n",
            "it's just another graceless night are you lost enough?\n",
            "have another drink, get lost in us\n",
            "this is how we get notorious, oh\n",
            "'cause i don't know\n",
            "if they keep tellin' me where to go\n",
            "i'll blow my brains out to the radio, oh all of the things we're taking\n",
            "'cause we are young and we're ashamed\n",
            "send us to perfect places\n",
            "all of our heroes fading\n",
            "now i can't stand to be alone\n",
            "let's go to perfect places every night, i live and die\n",
            "meet somebody, take 'em home\n",
            "let's kiss and then take off our clothes\n",
            "it's just another graceless night, 'cause all of the things we're taking\n"
          ],
          "name": "stdout"
        }
      ]
    },
    {
      "cell_type": "code",
      "metadata": {
        "colab": {
          "base_uri": "https://localhost:8080/"
        },
        "id": "dySCfh2JJueV",
        "outputId": "278c9776-13c8-48f8-efdf-5a5239383387"
      },
      "source": [
        "tokenizer = Tokenizer()\n",
        "tokenizer.fit_on_texts(corpus)\n",
        "total_words = len(tokenizer.word_index) + 1\n",
        "total_words"
      ],
      "execution_count": null,
      "outputs": [
        {
          "output_type": "execute_result",
          "data": {
            "text/plain": [
              "1372"
            ]
          },
          "metadata": {
            "tags": []
          },
          "execution_count": 8
        }
      ]
    },
    {
      "cell_type": "code",
      "metadata": {
        "id": "xgudMrnBJySD"
      },
      "source": [
        "input_sequences = []\n",
        "for line in corpus:\n",
        "  token_list = tokenizer.texts_to_sequences([line])[0]\n",
        "  for i in range(1, len(token_list)):\n",
        "    n_gram_sequence = token_list[:i+1]\n",
        "    input_sequences.append(n_gram_sequence)"
      ],
      "execution_count": null,
      "outputs": []
    },
    {
      "cell_type": "code",
      "metadata": {
        "colab": {
          "base_uri": "https://localhost:8080/"
        },
        "id": "GDMWYgf6J20P",
        "outputId": "a1733aa3-8329-4edc-d1d1-ef6748b64682"
      },
      "source": [
        "max_sequence_len = max([len(x) for x in input_sequences])\n",
        "input_sequences = np.array(pad_sequences(input_sequences, maxlen=max_sequence_len,\n",
        "padding='pre'))\n",
        "print(max_sequence_len)\n",
        "print(input_sequences)"
      ],
      "execution_count": null,
      "outputs": [
        {
          "output_type": "stream",
          "text": [
            "29\n",
            "[[  0   0   0 ...   0 112 196]\n",
            " [  0   0   0 ... 112 196 703]\n",
            " [  0   0   0 ... 196 703  42]\n",
            " ...\n",
            " [  0   0   0 ... 207 140 140]\n",
            " [  0   0   0 ... 140 140 140]\n",
            " [  0   0   0 ... 140 140 140]]\n"
          ],
          "name": "stdout"
        }
      ]
    },
    {
      "cell_type": "code",
      "metadata": {
        "id": "Z803h_IlJ6gE"
      },
      "source": [
        "from keras.models import load_model\n",
        "loaded_model = load_model('lyrics_generator.h5')"
      ],
      "execution_count": null,
      "outputs": []
    },
    {
      "cell_type": "markdown",
      "metadata": {
        "id": "IvYQ_6O0i30r"
      },
      "source": [
        "# Testing the model"
      ]
    },
    {
      "cell_type": "code",
      "metadata": {
        "id": "ID3X6DkyJ-dt"
      },
      "source": [
        "next_words = 50\n",
        "seed_text = \"i am a king\""
      ],
      "execution_count": null,
      "outputs": []
    },
    {
      "cell_type": "code",
      "metadata": {
        "id": "Y9QdPkeYKBip"
      },
      "source": [
        "def lyrics(next_words,seed_text):\n",
        "  for _ in range(next_words):\n",
        "    token_list = tokenizer.texts_to_sequences([seed_text])[0]\n",
        "    token_list = pad_sequences([token_list], maxlen=max_sequence_len-\n",
        "  1, padding='pre')\n",
        "    predicted = np.argmax(loaded_model.predict(token_list, verbose=0), axis=-1)\n",
        "    output_word = \"\"\n",
        "    for word, index in tokenizer.word_index.items():\n",
        "      if index == predicted:\n",
        "        output_word = word\n",
        "        break\n",
        "    seed_text += \" \" + output_word\n",
        "  print(seed_text)"
      ],
      "execution_count": null,
      "outputs": []
    },
    {
      "cell_type": "code",
      "metadata": {
        "colab": {
          "base_uri": "https://localhost:8080/",
          "height": 52
        },
        "id": "nGEe2SXHKGEA",
        "outputId": "ae4e0db2-474b-471c-fd32-c65236068704"
      },
      "source": [
        "lyrics(next_words,seed_text)"
      ],
      "execution_count": null,
      "outputs": [
        {
          "output_type": "execute_result",
          "data": {
            "application/vnd.google.colaboratory.intrinsic+json": {
              "type": "string"
            },
            "text/plain": [
              "\"i am a king in our dreams but everybody's like a fire beneath our love is a ghost lead the violence boys the radio up we had and sing and it it it it it didn't love it it it it it it alone it kissed a level beneath the fun go it it\""
            ]
          },
          "metadata": {
            "tags": []
          },
          "execution_count": 27
        }
      ]
    },
    {
      "cell_type": "markdown",
      "metadata": {
        "id": "GJKI5pZEjLDt"
      },
      "source": [
        "# Web app creation"
      ]
    },
    {
      "cell_type": "code",
      "metadata": {
        "id": "PjQh7EqxGmzs"
      },
      "source": [
        "!pip install jupyter-dash"
      ],
      "execution_count": null,
      "outputs": []
    },
    {
      "cell_type": "code",
      "metadata": {
        "id": "l0OoTQQeGwzq"
      },
      "source": [
        "import plotly.express as px\n",
        "from jupyter_dash import JupyterDash\n",
        "import dash_core_components as dcc\n",
        "import dash_html_components as html\n",
        "from dash.dependencies import Input, Output\n"
      ],
      "execution_count": null,
      "outputs": []
    },
    {
      "cell_type": "code",
      "metadata": {
        "id": "UXb5y4sTGyZn"
      },
      "source": [
        "df = px.data.tips()# Build App\n",
        "app = JupyterDash(__name__)\n",
        "\n",
        "app.layout = html.Div([\n",
        "    html.H1('Lyrics Generator'),\n",
        "    html.Div([\"Next_words: \",\n",
        "              dcc.Input(id='my-input', type='number')]),\n",
        "    html.Div([\"Seed_text: \",\n",
        "              dcc.Input(id='my-input1', type='text')]),\n",
        "    html.Button('Generate Lyrics', id='show-lyrics'),\n",
        "    html.Div(id='body-div')\n",
        "])\n",
        "\n",
        "@app.callback(\n",
        "    Output(component_id='body-div', component_property='children'),\n",
        "    Input(component_id='show-lyrics', component_property='n_clicks'),\n",
        "    Input(component_id='my-input', component_property='value'),\n",
        "    Input(component_id='my-input1', component_property='value'),    \n",
        ")\n",
        "def update_output(n_clicks,input_value,input_value1):\n",
        "    if n_clicks is None:\n",
        "        raise PreventUpdate\n",
        "    else:\n",
        "        return lyrics(input_value,input_value1)\n",
        "def lyrics(next_words,seed_text):\n",
        "  for _ in range(next_words):\n",
        "    token_list = tokenizer.texts_to_sequences([seed_text])[0]\n",
        "    token_list = pad_sequences([token_list], maxlen=max_sequence_len-\n",
        "  1, padding='pre')\n",
        "    predicted = np.argmax(loaded_model.predict(token_list, verbose=0), axis=-1)\n",
        "    output_word = \"\"\n",
        "    for word, index in tokenizer.word_index.items():\n",
        "      if index == predicted:\n",
        "        output_word = word\n",
        "        break\n",
        "    seed_text += \" \" + output_word\n",
        "  return seed_text"
      ],
      "execution_count": null,
      "outputs": []
    },
    {
      "cell_type": "code",
      "metadata": {
        "colab": {
          "base_uri": "https://localhost:8080/",
          "height": 51
        },
        "id": "i3M4q0g9G3bl",
        "outputId": "63748255-6f5e-4a30-dff0-2c556b73d7a7"
      },
      "source": [
        "app.run_server(mode='external', port=8060)"
      ],
      "execution_count": null,
      "outputs": [
        {
          "output_type": "stream",
          "text": [
            "Dash app running on:\n"
          ],
          "name": "stdout"
        },
        {
          "output_type": "display_data",
          "data": {
            "application/javascript": [
              "(async (port, path, text, element) => {\n",
              "    if (!google.colab.kernel.accessAllowed) {\n",
              "      return;\n",
              "    }\n",
              "    element.appendChild(document.createTextNode(''));\n",
              "    const url = await google.colab.kernel.proxyPort(port);\n",
              "    const anchor = document.createElement('a');\n",
              "    anchor.href = new URL(path, url).toString();\n",
              "    anchor.target = '_blank';\n",
              "    anchor.setAttribute('data-href', url + path);\n",
              "    anchor.textContent = text;\n",
              "    element.appendChild(anchor);\n",
              "  })(8060, \"/\", \"http://127.0.0.1:8060/\", window.element)"
            ],
            "text/plain": [
              "<IPython.core.display.Javascript object>"
            ]
          },
          "metadata": {
            "tags": []
          }
        }
      ]
    },
    {
      "cell_type": "code",
      "metadata": {
        "id": "cDVpCeRtQdXC"
      },
      "source": [
        "app._terminate_server_for_port(\"localhost\", 8060)"
      ],
      "execution_count": null,
      "outputs": []
    },
    {
      "cell_type": "code",
      "metadata": {
        "id": "E2g6YWblTBbc"
      },
      "source": [
        ""
      ],
      "execution_count": null,
      "outputs": []
    }
  ]
}